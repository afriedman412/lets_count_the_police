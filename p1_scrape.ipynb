{
 "cells": [
  {
   "cell_type": "code",
   "execution_count": 1,
   "metadata": {
    "collapsed": true,
    "nbpresent": {
     "id": "8aee7941-bd9d-46b9-ae59-68d87b4bccc7"
    }
   },
   "outputs": [],
   "source": [
    "import pandas as pd\n",
    "from bs4 import BeautifulSoup\n",
    "import re\n",
    "import requests\n",
    "import unidecode\n",
    "import string\n",
    "import datetime\n",
    "import time\n",
    "from IPython.display import clear_output\n",
    "import urllib3\n",
    "import certifi\n",
    "import matplotlib.pyplot as plt\n",
    "import seaborn as sns"
   ]
  },
  {
   "cell_type": "code",
   "execution_count": 136,
   "metadata": {
    "collapsed": true,
    "nbpresent": {
     "id": "208a23f7-d9fa-4981-b7a9-be5128e48a59"
    }
   },
   "outputs": [],
   "source": [
    "us_PD = pd.DataFrame()"
   ]
  },
  {
   "cell_type": "code",
   "execution_count": 135,
   "metadata": {
    "collapsed": true,
    "nbpresent": {
     "id": "6dc0f46a-8247-4908-8a17-5cb1915fc457"
    }
   },
   "outputs": [],
   "source": [
    "states = [\"Alabama\",\"Alaska\",\"Arizona\",\"Arkansas\",\"California\",\"Colorado\",\n",
    "  \"Connecticut\",\"Delaware\",\"Florida\",\"Georgia\",\"Hawaii\",\"Idaho\",\"Illinois\",\n",
    "  \"Indiana\",\"Iowa\",\"Kansas\",\"Kentucky\",\"Louisiana\",\"Maine\",\"Maryland\",\n",
    "  \"Massachusetts\",\"Michigan\",\"Minnesota\",\"Mississippi\",\"Missouri\",\"Montana\",\n",
    "  \"Nebraska\",\"Nevada\",\"New Hampshire\",\"New Jersey\",\"New Mexico\",\"New York\",\n",
    "  \"North Carolina\",\"North Dakota\",\"Ohio\",\"Oklahoma\",\"Oregon\",\"Pennsylvania\",\n",
    "  \"Rhode Island\",\"South Carolina\",\"South Dakota\",\"Tennessee\",\"Texas\",\"Utah\",\n",
    "  \"Vermont\",\"Virginia\",\"Washington\",\"West Virginia\",\"Wisconsin\",\"Wyoming\"]"
   ]
  },
  {
   "cell_type": "code",
   "execution_count": 156,
   "metadata": {
    "nbpresent": {
     "id": "9ca95035-2a9d-4f4e-baf8-c003b98d6676"
    }
   },
   "outputs": [
    {
     "data": {
      "text/plain": [
       "50"
      ]
     },
     "execution_count": 156,
     "metadata": {},
     "output_type": "execute_result"
    }
   ],
   "source": [
    "len(states)"
   ]
  },
  {
   "cell_type": "code",
   "execution_count": 145,
   "metadata": {
    "collapsed": true,
    "nbpresent": {
     "id": "d10a46b5-092a-4504-997a-e32700b0618b"
    }
   },
   "outputs": [
    {
     "name": "stdout",
     "output_type": "stream",
     "text": [
      "alabama\n",
      "alaska\n",
      "arizona\n",
      "arkansas\n",
      "california\n",
      "colorado\n",
      "connecticut\n",
      "delaware\n",
      "florida\n",
      "georgia\n",
      "hawaii\n",
      "idaho\n",
      "illinois\n",
      "indiana\n",
      "iowa\n",
      "kansas\n",
      "kentucky\n",
      "louisiana\n",
      "maine\n",
      "maryland\n",
      "massachusetts\n",
      "michigan\n",
      "minnesota\n",
      "mississippi\n",
      "missouri\n",
      "montana\n",
      "nebraska\n",
      "nevada\n",
      "new-hampshire\n",
      "new-jersey\n",
      "new-mexico\n",
      "new-york\n",
      "north-carolina\n",
      "north-dakota\n",
      "ohio\n",
      "oklahoma\n",
      "oregon\n",
      "pennsylvania\n",
      "rhode-island\n",
      "south-carolina\n",
      "south-dakota\n",
      "tennessee\n",
      "texas\n",
      "utah\n",
      "vermont\n",
      "virginia\n",
      "washington\n",
      "west-virginia\n",
      "wisconsin\n",
      "wyoming\n"
     ]
    }
   ],
   "source": [
    "for s in states:\n",
    "    print('-'.join(s.lower().split()))"
   ]
  },
  {
   "cell_type": "code",
   "execution_count": 150,
   "metadata": {
    "nbpresent": {
     "id": "c42d8d59-fbb4-48da-ad56-f17341cf302e"
    },
    "scrolled": false
   },
   "outputs": [],
   "source": [
    "us_PD = pd.DataFrame()\n",
    "for s in states:\n",
    "    \n",
    "    # instantiate zults\n",
    "    zults = {'name':[], 'url':[], 'pop':[], 'officers':[]}\n",
    "\n",
    "    # instantiate HTTP certificate\n",
    "    http = urllib3.PoolManager(cert_reqs='CERT_REQUIRED', ca_certs=certifi.where())\n",
    "\n",
    "    # instantiate url\n",
    "    state = '-'.join(s.lower().split())\n",
    "    print(state)\n",
    "    n = 1\n",
    "\n",
    "    run = True\n",
    "\n",
    "    while run:\n",
    "        url = f'https://www.policeone.com/law-enforcement-directory/search/page-{n}/?state={state}&type=police%20departments'\n",
    "\n",
    "        # start request\n",
    "        r = http.request('GET', url)\n",
    "\n",
    "        # check status\n",
    "        if r.status == 200:\n",
    "            soup = BeautifulSoup(r.data, 'lxml')\n",
    "            if len(soup.find_all('a', {'class':'Table-row'})) == 0:\n",
    "                run = False\n",
    "                continue\n",
    "            else:\n",
    "                for span in soup.find_all('span', {'class':'u-textLink'}):\n",
    "                    zults['name'].append(span.text.strip())\n",
    "                for link in soup.find_all('a', {'class':'Table-row'}):\n",
    "                    zults['url'].append(link['href'])\n",
    "        n += 1\n",
    "\n",
    "    # pull linked data\n",
    "    for l in zults['url']:\n",
    "        print(l)\n",
    "        data = {'dd':[],'dt':[]}\n",
    "        r3 = http.request('GET', f'https://www.policeone.com{l}')\n",
    "        soup = BeautifulSoup(r3.data, 'lxml')\n",
    "        for d in soup.find_all('dd', {'class':'DefList-description'}):\n",
    "            data['dd'].append(d.text.strip())\n",
    "        for t in soup.find_all('dt', {'class':'DefList-term'}):\n",
    "            data['dt'].append(t.text.strip())\n",
    "        d2 = dict(zip(data['dt'], data['dd']))\n",
    "        try:\n",
    "            zults['pop'].append(d2['Population Served:'])\n",
    "        except KeyError:\n",
    "            zults['pop'].append('missing')\n",
    "        try:\n",
    "            zults['officers'].append(d2['Number of Officers:'])\n",
    "        except KeyError:\n",
    "            zults['officers'].append('missing')\n",
    "    \n",
    "    zult = pd.DataFrame(zults)\n",
    "    zult['state'] = state\n",
    "   \n",
    "    us_PD = pd.concat([us_PD, zult])\n",
    "    clear_output()\n",
    "\n",
    "        "
   ]
  },
  {
   "cell_type": "code",
   "execution_count": 158,
   "metadata": {
    "nbpresent": {
     "id": "bb3ceb51-6b2b-4be1-b779-c242b64e9155"
    }
   },
   "outputs": [
    {
     "name": "stdout",
     "output_type": "stream",
     "text": [
      "rhode-island\n",
      "vermont\n"
     ]
    }
   ],
   "source": [
    "for s in states:\n",
    "    x = ('-'.join(s.lower().split()))\n",
    "    if x not in us_PD['state'].unique():\n",
    "        print(x)"
   ]
  },
  {
   "cell_type": "code",
   "execution_count": 157,
   "metadata": {
    "nbpresent": {
     "id": "a89f67f2-64c9-4760-ae3a-5955cbf9529c"
    }
   },
   "outputs": [
    {
     "data": {
      "text/plain": [
       "array(['alabama', 'alaska', 'arizona', 'arkansas', 'california',\n",
       "       'colorado', 'connecticut', 'delaware', 'florida', 'georgia',\n",
       "       'hawaii', 'idaho', 'illinois', 'indiana', 'iowa', 'kansas',\n",
       "       'kentucky', 'louisiana', 'maine', 'maryland', 'massachusetts',\n",
       "       'michigan', 'minnesota', 'mississippi', 'missouri', 'montana',\n",
       "       'nebraska', 'nevada', 'new-hampshire', 'new-jersey', 'new-mexico',\n",
       "       'new-york', 'north-carolina', 'north-dakota', 'ohio', 'oklahoma',\n",
       "       'oregon', 'pennsylvania', 'south-carolina', 'south-dakota',\n",
       "       'tennessee', 'texas', 'utah', 'virginia', 'washington',\n",
       "       'west-virginia', 'wisconsin', 'wyoming'], dtype=object)"
      ]
     },
     "execution_count": 157,
     "metadata": {},
     "output_type": "execute_result"
    }
   ],
   "source": [
    "us_PD['state'].unique()"
   ]
  },
  {
   "cell_type": "code",
   "execution_count": 160,
   "metadata": {
    "nbpresent": {
     "id": "464652a9-70e7-420f-8bf7-ba6897326dbd"
    }
   },
   "outputs": [],
   "source": [
    "us_PD.to_csv('police_one_scrape_722.csv')"
   ]
  }
 ],
 "metadata": {
  "kernelspec": {
   "display_name": "Python [conda env:anaconda3]",
   "language": "python",
   "name": "conda-env-anaconda3-py"
  },
  "language_info": {
   "codemirror_mode": {
    "name": "ipython",
    "version": 3
   },
   "file_extension": ".py",
   "mimetype": "text/x-python",
   "name": "python",
   "nbconvert_exporter": "python",
   "pygments_lexer": "ipython3",
   "version": "3.6.3"
  }
 },
 "nbformat": 4,
 "nbformat_minor": 2
}

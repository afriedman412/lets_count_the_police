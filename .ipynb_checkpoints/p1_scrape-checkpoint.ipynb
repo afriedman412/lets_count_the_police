{
 "cells": [
  {
   "cell_type": "code",
   "execution_count": 208,
   "metadata": {
    "collapsed": true,
    "nbpresent": {
     "id": "8aee7941-bd9d-46b9-ae59-68d87b4bccc7"
    }
   },
   "outputs": [],
   "source": [
    "import pandas as pd\n",
    "from bs4 import BeautifulSoup\n",
    "import re\n",
    "import requests\n",
    "import unidecode\n",
    "import string\n",
    "import datetime\n",
    "import time\n",
    "from IPython.display import clear_output\n",
    "import urllib3\n",
    "import certifi\n",
    "import matplotlib.pyplot as plt\n",
    "import seaborn as sns"
   ]
  },
  {
   "cell_type": "code",
   "execution_count": 136,
   "metadata": {
    "collapsed": true,
    "nbpresent": {
     "id": "208a23f7-d9fa-4981-b7a9-be5128e48a59"
    }
   },
   "outputs": [],
   "source": [
    "us_PD = pd.DataFrame()"
   ]
  },
  {
   "cell_type": "code",
   "execution_count": 135,
   "metadata": {
    "collapsed": true,
    "nbpresent": {
     "id": "6dc0f46a-8247-4908-8a17-5cb1915fc457"
    }
   },
   "outputs": [],
   "source": [
    "states = [\"Alabama\",\"Alaska\",\"Arizona\",\"Arkansas\",\"California\",\"Colorado\",\n",
    "  \"Connecticut\",\"Delaware\",\"Florida\",\"Georgia\",\"Hawaii\",\"Idaho\",\"Illinois\",\n",
    "  \"Indiana\",\"Iowa\",\"Kansas\",\"Kentucky\",\"Louisiana\",\"Maine\",\"Maryland\",\n",
    "  \"Massachusetts\",\"Michigan\",\"Minnesota\",\"Mississippi\",\"Missouri\",\"Montana\",\n",
    "  \"Nebraska\",\"Nevada\",\"New Hampshire\",\"New Jersey\",\"New Mexico\",\"New York\",\n",
    "  \"North Carolina\",\"North Dakota\",\"Ohio\",\"Oklahoma\",\"Oregon\",\"Pennsylvania\",\n",
    "  \"Rhode Island\",\"South Carolina\",\"South Dakota\",\"Tennessee\",\"Texas\",\"Utah\",\n",
    "  \"Vermont\",\"Virginia\",\"Washington\",\"West Virginia\",\"Wisconsin\",\"Wyoming\"]"
   ]
  },
  {
   "cell_type": "code",
   "execution_count": 156,
   "metadata": {
    "nbpresent": {
     "id": "9ca95035-2a9d-4f4e-baf8-c003b98d6676"
    }
   },
   "outputs": [
    {
     "data": {
      "text/plain": [
       "50"
      ]
     },
     "execution_count": 156,
     "metadata": {},
     "output_type": "execute_result"
    }
   ],
   "source": [
    "len(states)"
   ]
  },
  {
   "cell_type": "code",
   "execution_count": 150,
   "metadata": {
    "collapsed": true,
    "nbpresent": {
     "id": "c42d8d59-fbb4-48da-ad56-f17341cf302e"
    },
    "scrolled": false
   },
   "outputs": [],
   "source": [
    "us_PD = pd.DataFrame()\n",
    "for s in states:\n",
    "    \n",
    "    # instantiate zults\n",
    "    zults = {'name':[], 'url':[], 'pop':[], 'officers':[]}\n",
    "\n",
    "    # instantiate HTTP certificate\n",
    "    http = urllib3.PoolManager(cert_reqs='CERT_REQUIRED', ca_certs=certifi.where())\n",
    "\n",
    "    # instantiate url\n",
    "    state = '-'.join(s.lower().split())\n",
    "    print(state)\n",
    "    n = 1\n",
    "\n",
    "    run = True\n",
    "\n",
    "    while run:\n",
    "        url = f'https://www.policeone.com/law-enforcement-directory/search/page-{n}/?state={state}&type=police%20departments'\n",
    "\n",
    "        # start request\n",
    "        r = http.request('GET', url)\n",
    "\n",
    "        # check status\n",
    "        if r.status == 200:\n",
    "            soup = BeautifulSoup(r.data, 'lxml')\n",
    "            if len(soup.find_all('a', {'class':'Table-row'})) == 0:\n",
    "                run = False\n",
    "                continue\n",
    "            else:\n",
    "                for span in soup.find_all('span', {'class':'u-textLink'}):\n",
    "                    zults['name'].append(span.text.strip())\n",
    "                for link in soup.find_all('a', {'class':'Table-row'}):\n",
    "                    zults['url'].append(link['href'])\n",
    "        n += 1\n",
    "\n",
    "    # pull linked data\n",
    "    for l in zults['url']:\n",
    "        print(l)\n",
    "        data = {'dd':[],'dt':[]}\n",
    "        r3 = http.request('GET', f'https://www.policeone.com{l}')\n",
    "        soup = BeautifulSoup(r3.data, 'lxml')\n",
    "        for d in soup.find_all('dd', {'class':'DefList-description'}):\n",
    "            data['dd'].append(d.text.strip())\n",
    "        for t in soup.find_all('dt', {'class':'DefList-term'}):\n",
    "            data['dt'].append(t.text.strip())\n",
    "        d2 = dict(zip(data['dt'], data['dd']))\n",
    "        try:\n",
    "            zults['pop'].append(d2['Population Served:'])\n",
    "        except KeyError:\n",
    "            zults['pop'].append('missing')\n",
    "        try:\n",
    "            zults['officers'].append(d2['Number of Officers:'])\n",
    "        except KeyError:\n",
    "            zults['officers'].append('missing')\n",
    "    \n",
    "    zult = pd.DataFrame(zults)\n",
    "    zult['state'] = state\n",
    "   \n",
    "    us_PD = pd.concat([us_PD, zult])\n",
    "    clear_output()\n",
    "\n",
    "        "
   ]
  },
  {
   "cell_type": "code",
   "execution_count": 158,
   "metadata": {
    "nbpresent": {
     "id": "bb3ceb51-6b2b-4be1-b779-c242b64e9155"
    }
   },
   "outputs": [
    {
     "name": "stdout",
     "output_type": "stream",
     "text": [
      "rhode-island\n",
      "vermont\n"
     ]
    }
   ],
   "source": [
    "for s in states:\n",
    "    x = ('-'.join(s.lower().split()))\n",
    "    if x not in us_PD['state'].unique():\n",
    "        print(x)"
   ]
  },
  {
   "cell_type": "code",
   "execution_count": 163,
   "metadata": {
    "nbpresent": {
     "id": "a89f67f2-64c9-4760-ae3a-5955cbf9529c"
    }
   },
   "outputs": [
    {
     "data": {
      "text/html": [
       "<div>\n",
       "<style>\n",
       "    .dataframe thead tr:only-child th {\n",
       "        text-align: right;\n",
       "    }\n",
       "\n",
       "    .dataframe thead th {\n",
       "        text-align: left;\n",
       "    }\n",
       "\n",
       "    .dataframe tbody tr th {\n",
       "        vertical-align: top;\n",
       "    }\n",
       "</style>\n",
       "<table border=\"1\" class=\"dataframe\">\n",
       "  <thead>\n",
       "    <tr style=\"text-align: right;\">\n",
       "      <th></th>\n",
       "      <th>name</th>\n",
       "      <th>officers</th>\n",
       "      <th>pop</th>\n",
       "      <th>url</th>\n",
       "      <th>state</th>\n",
       "    </tr>\n",
       "  </thead>\n",
       "  <tbody>\n",
       "    <tr>\n",
       "      <th>0</th>\n",
       "      <td>Union Springs Police Department</td>\n",
       "      <td>missing</td>\n",
       "      <td>missing</td>\n",
       "      <td>/Police-Departments/Union-Springs-Police-Depar...</td>\n",
       "      <td>alabama</td>\n",
       "    </tr>\n",
       "    <tr>\n",
       "      <th>1</th>\n",
       "      <td>Selma Police Department</td>\n",
       "      <td>64</td>\n",
       "      <td>21000</td>\n",
       "      <td>/Police-Departments/Selma-Police-Dept-Selma-AL/</td>\n",
       "      <td>alabama</td>\n",
       "    </tr>\n",
       "    <tr>\n",
       "      <th>2</th>\n",
       "      <td>Homewood Police Department</td>\n",
       "      <td>65</td>\n",
       "      <td>25000</td>\n",
       "      <td>/Police-Departments/Homewood-Police-Dept-Homew...</td>\n",
       "      <td>alabama</td>\n",
       "    </tr>\n",
       "    <tr>\n",
       "      <th>3</th>\n",
       "      <td>Prattville Police Department</td>\n",
       "      <td>79</td>\n",
       "      <td>26000</td>\n",
       "      <td>/Police-Departments/Prattville-Police-Dept-Pra...</td>\n",
       "      <td>alabama</td>\n",
       "    </tr>\n",
       "    <tr>\n",
       "      <th>4</th>\n",
       "      <td>Greenville Police Department</td>\n",
       "      <td>30</td>\n",
       "      <td>12000</td>\n",
       "      <td>/Police-Departments/Greenville-Police-Dept9-Gr...</td>\n",
       "      <td>alabama</td>\n",
       "    </tr>\n",
       "  </tbody>\n",
       "</table>\n",
       "</div>"
      ],
      "text/plain": [
       "                              name officers      pop  \\\n",
       "0  Union Springs Police Department  missing  missing   \n",
       "1          Selma Police Department       64    21000   \n",
       "2       Homewood Police Department       65    25000   \n",
       "3     Prattville Police Department       79    26000   \n",
       "4     Greenville Police Department       30    12000   \n",
       "\n",
       "                                                 url    state  \n",
       "0  /Police-Departments/Union-Springs-Police-Depar...  alabama  \n",
       "1    /Police-Departments/Selma-Police-Dept-Selma-AL/  alabama  \n",
       "2  /Police-Departments/Homewood-Police-Dept-Homew...  alabama  \n",
       "3  /Police-Departments/Prattville-Police-Dept-Pra...  alabama  \n",
       "4  /Police-Departments/Greenville-Police-Dept9-Gr...  alabama  "
      ]
     },
     "execution_count": 163,
     "metadata": {},
     "output_type": "execute_result"
    }
   ],
   "source": [
    "us_PD.head()"
   ]
  },
  {
   "cell_type": "code",
   "execution_count": 3,
   "metadata": {
    "collapsed": true,
    "nbpresent": {
     "id": "464652a9-70e7-420f-8bf7-ba6897326dbd"
    }
   },
   "outputs": [],
   "source": [
    "import numpy as np\n",
    "import pandas as pd\n",
    "import matplotlib.pyplot as plt\n",
    "import seaborn as sns\n",
    "%matplotlib inline"
   ]
  },
  {
   "cell_type": "code",
   "execution_count": 11,
   "metadata": {},
   "outputs": [],
   "source": [
    "us_PD = pd.read_csv('police_one_scrape_722.csv').drop(['Unnamed: 0','url'], axis=1)"
   ]
  },
  {
   "cell_type": "code",
   "execution_count": 12,
   "metadata": {
    "collapsed": true
   },
   "outputs": [],
   "source": [
    "def try_convert(x):\n",
    "    try:\n",
    "        return int(x)\n",
    "    except ValueError:\n",
    "        return np.NaN"
   ]
  },
  {
   "cell_type": "code",
   "execution_count": 13,
   "metadata": {},
   "outputs": [
    {
     "data": {
      "text/html": [
       "<div>\n",
       "<style>\n",
       "    .dataframe thead tr:only-child th {\n",
       "        text-align: right;\n",
       "    }\n",
       "\n",
       "    .dataframe thead th {\n",
       "        text-align: left;\n",
       "    }\n",
       "\n",
       "    .dataframe tbody tr th {\n",
       "        vertical-align: top;\n",
       "    }\n",
       "</style>\n",
       "<table border=\"1\" class=\"dataframe\">\n",
       "  <thead>\n",
       "    <tr style=\"text-align: right;\">\n",
       "      <th></th>\n",
       "      <th>name</th>\n",
       "      <th>officers</th>\n",
       "      <th>pop</th>\n",
       "      <th>state</th>\n",
       "    </tr>\n",
       "  </thead>\n",
       "  <tbody>\n",
       "    <tr>\n",
       "      <th>0</th>\n",
       "      <td>Union Springs Police Department</td>\n",
       "      <td>missing</td>\n",
       "      <td>missing</td>\n",
       "      <td>alabama</td>\n",
       "    </tr>\n",
       "    <tr>\n",
       "      <th>1</th>\n",
       "      <td>Selma Police Department</td>\n",
       "      <td>64</td>\n",
       "      <td>21000</td>\n",
       "      <td>alabama</td>\n",
       "    </tr>\n",
       "    <tr>\n",
       "      <th>2</th>\n",
       "      <td>Homewood Police Department</td>\n",
       "      <td>65</td>\n",
       "      <td>25000</td>\n",
       "      <td>alabama</td>\n",
       "    </tr>\n",
       "    <tr>\n",
       "      <th>3</th>\n",
       "      <td>Prattville Police Department</td>\n",
       "      <td>79</td>\n",
       "      <td>26000</td>\n",
       "      <td>alabama</td>\n",
       "    </tr>\n",
       "    <tr>\n",
       "      <th>4</th>\n",
       "      <td>Greenville Police Department</td>\n",
       "      <td>30</td>\n",
       "      <td>12000</td>\n",
       "      <td>alabama</td>\n",
       "    </tr>\n",
       "    <tr>\n",
       "      <th>5</th>\n",
       "      <td>Enterprise Police Department</td>\n",
       "      <td>46</td>\n",
       "      <td>22000</td>\n",
       "      <td>alabama</td>\n",
       "    </tr>\n",
       "    <tr>\n",
       "      <th>6</th>\n",
       "      <td>Mountain Brook Police Department</td>\n",
       "      <td>53</td>\n",
       "      <td>20490</td>\n",
       "      <td>alabama</td>\n",
       "    </tr>\n",
       "    <tr>\n",
       "      <th>7</th>\n",
       "      <td>Vestavia Hills Police Department</td>\n",
       "      <td>35</td>\n",
       "      <td>20300</td>\n",
       "      <td>alabama</td>\n",
       "    </tr>\n",
       "    <tr>\n",
       "      <th>8</th>\n",
       "      <td>Hueytown Police Department</td>\n",
       "      <td>24</td>\n",
       "      <td>20000</td>\n",
       "      <td>alabama</td>\n",
       "    </tr>\n",
       "    <tr>\n",
       "      <th>9</th>\n",
       "      <td>Talladega Police Department</td>\n",
       "      <td>39</td>\n",
       "      <td>20000</td>\n",
       "      <td>alabama</td>\n",
       "    </tr>\n",
       "    <tr>\n",
       "      <th>10</th>\n",
       "      <td>Madison Police Department</td>\n",
       "      <td>84</td>\n",
       "      <td>46200</td>\n",
       "      <td>alabama</td>\n",
       "    </tr>\n",
       "    <tr>\n",
       "      <th>11</th>\n",
       "      <td>Athens Police Department</td>\n",
       "      <td>40</td>\n",
       "      <td>20000</td>\n",
       "      <td>alabama</td>\n",
       "    </tr>\n",
       "    <tr>\n",
       "      <th>12</th>\n",
       "      <td>Cullman Police Department</td>\n",
       "      <td>45</td>\n",
       "      <td>20250</td>\n",
       "      <td>alabama</td>\n",
       "    </tr>\n",
       "    <tr>\n",
       "      <th>13</th>\n",
       "      <td>Pell City Police Department</td>\n",
       "      <td>28</td>\n",
       "      <td>17000</td>\n",
       "      <td>alabama</td>\n",
       "    </tr>\n",
       "    <tr>\n",
       "      <th>14</th>\n",
       "      <td>Northport Police Department</td>\n",
       "      <td>47</td>\n",
       "      <td>30000</td>\n",
       "      <td>alabama</td>\n",
       "    </tr>\n",
       "    <tr>\n",
       "      <th>15</th>\n",
       "      <td>Jacksonville Police Department</td>\n",
       "      <td>22</td>\n",
       "      <td>16000</td>\n",
       "      <td>alabama</td>\n",
       "    </tr>\n",
       "    <tr>\n",
       "      <th>16</th>\n",
       "      <td>Ozark Police Department</td>\n",
       "      <td>45</td>\n",
       "      <td>16000</td>\n",
       "      <td>alabama</td>\n",
       "    </tr>\n",
       "    <tr>\n",
       "      <th>17</th>\n",
       "      <td>Albertville Police Department</td>\n",
       "      <td>36</td>\n",
       "      <td>15300</td>\n",
       "      <td>alabama</td>\n",
       "    </tr>\n",
       "    <tr>\n",
       "      <th>18</th>\n",
       "      <td>Lockhart Police Department</td>\n",
       "      <td>3</td>\n",
       "      <td>500</td>\n",
       "      <td>alabama</td>\n",
       "    </tr>\n",
       "    <tr>\n",
       "      <th>19</th>\n",
       "      <td>Hurtsboro Police Department</td>\n",
       "      <td>6</td>\n",
       "      <td>1500</td>\n",
       "      <td>alabama</td>\n",
       "    </tr>\n",
       "    <tr>\n",
       "      <th>20</th>\n",
       "      <td>Cleveland Police Department</td>\n",
       "      <td>3</td>\n",
       "      <td>1000</td>\n",
       "      <td>alabama</td>\n",
       "    </tr>\n",
       "    <tr>\n",
       "      <th>21</th>\n",
       "      <td>Priceville Police Department</td>\n",
       "      <td>missing</td>\n",
       "      <td>missing</td>\n",
       "      <td>alabama</td>\n",
       "    </tr>\n",
       "    <tr>\n",
       "      <th>22</th>\n",
       "      <td>Webb Police Department</td>\n",
       "      <td>missing</td>\n",
       "      <td>missing</td>\n",
       "      <td>alabama</td>\n",
       "    </tr>\n",
       "    <tr>\n",
       "      <th>23</th>\n",
       "      <td>Napier Field Police Department</td>\n",
       "      <td>missing</td>\n",
       "      <td>missing</td>\n",
       "      <td>alabama</td>\n",
       "    </tr>\n",
       "    <tr>\n",
       "      <th>24</th>\n",
       "      <td>Woodstock Police Department</td>\n",
       "      <td>5</td>\n",
       "      <td>missing</td>\n",
       "      <td>alabama</td>\n",
       "    </tr>\n",
       "    <tr>\n",
       "      <th>25</th>\n",
       "      <td>Trafford Police Department</td>\n",
       "      <td>missing</td>\n",
       "      <td>missing</td>\n",
       "      <td>alabama</td>\n",
       "    </tr>\n",
       "    <tr>\n",
       "      <th>26</th>\n",
       "      <td>Steele Police Department</td>\n",
       "      <td>missing</td>\n",
       "      <td>missing</td>\n",
       "      <td>alabama</td>\n",
       "    </tr>\n",
       "    <tr>\n",
       "      <th>27</th>\n",
       "      <td>Summerdale Police Department</td>\n",
       "      <td>missing</td>\n",
       "      <td>missing</td>\n",
       "      <td>alabama</td>\n",
       "    </tr>\n",
       "    <tr>\n",
       "      <th>28</th>\n",
       "      <td>Taylor Police Department</td>\n",
       "      <td>missing</td>\n",
       "      <td>missing</td>\n",
       "      <td>alabama</td>\n",
       "    </tr>\n",
       "    <tr>\n",
       "      <th>29</th>\n",
       "      <td>Somerville Police Department</td>\n",
       "      <td>missing</td>\n",
       "      <td>missing</td>\n",
       "      <td>alabama</td>\n",
       "    </tr>\n",
       "    <tr>\n",
       "      <th>...</th>\n",
       "      <td>...</td>\n",
       "      <td>...</td>\n",
       "      <td>...</td>\n",
       "      <td>...</td>\n",
       "    </tr>\n",
       "    <tr>\n",
       "      <th>9302</th>\n",
       "      <td>Glenrock Police Department</td>\n",
       "      <td>6</td>\n",
       "      <td>3200</td>\n",
       "      <td>wyoming</td>\n",
       "    </tr>\n",
       "    <tr>\n",
       "      <th>9303</th>\n",
       "      <td>Thermopolis Police Department</td>\n",
       "      <td>8</td>\n",
       "      <td>3500</td>\n",
       "      <td>wyoming</td>\n",
       "    </tr>\n",
       "    <tr>\n",
       "      <th>9304</th>\n",
       "      <td>Riverton Police Department</td>\n",
       "      <td>22</td>\n",
       "      <td>12500</td>\n",
       "      <td>wyoming</td>\n",
       "    </tr>\n",
       "    <tr>\n",
       "      <th>9305</th>\n",
       "      <td>Lander Police Department</td>\n",
       "      <td>17</td>\n",
       "      <td>7500</td>\n",
       "      <td>wyoming</td>\n",
       "    </tr>\n",
       "    <tr>\n",
       "      <th>9306</th>\n",
       "      <td>Cody Police Department</td>\n",
       "      <td>19</td>\n",
       "      <td>9500</td>\n",
       "      <td>wyoming</td>\n",
       "    </tr>\n",
       "    <tr>\n",
       "      <th>9307</th>\n",
       "      <td>Lovell Police Department</td>\n",
       "      <td>7</td>\n",
       "      <td>2400</td>\n",
       "      <td>wyoming</td>\n",
       "    </tr>\n",
       "    <tr>\n",
       "      <th>9308</th>\n",
       "      <td>Powell Police Department</td>\n",
       "      <td>14</td>\n",
       "      <td>5373</td>\n",
       "      <td>wyoming</td>\n",
       "    </tr>\n",
       "    <tr>\n",
       "      <th>9309</th>\n",
       "      <td>Worland Police Department</td>\n",
       "      <td>10</td>\n",
       "      <td>4800</td>\n",
       "      <td>wyoming</td>\n",
       "    </tr>\n",
       "    <tr>\n",
       "      <th>9310</th>\n",
       "      <td>Basin Police Department</td>\n",
       "      <td>3</td>\n",
       "      <td>1180</td>\n",
       "      <td>wyoming</td>\n",
       "    </tr>\n",
       "    <tr>\n",
       "      <th>9311</th>\n",
       "      <td>Rawlins Police Department</td>\n",
       "      <td>21</td>\n",
       "      <td>9000</td>\n",
       "      <td>wyoming</td>\n",
       "    </tr>\n",
       "    <tr>\n",
       "      <th>9312</th>\n",
       "      <td>Hanna Marshal's Department</td>\n",
       "      <td>2</td>\n",
       "      <td>1065</td>\n",
       "      <td>wyoming</td>\n",
       "    </tr>\n",
       "    <tr>\n",
       "      <th>9313</th>\n",
       "      <td>Saratoga Police Department</td>\n",
       "      <td>5</td>\n",
       "      <td>2000</td>\n",
       "      <td>wyoming</td>\n",
       "    </tr>\n",
       "    <tr>\n",
       "      <th>9314</th>\n",
       "      <td>Guernsey Police Department</td>\n",
       "      <td>4</td>\n",
       "      <td>1500</td>\n",
       "      <td>wyoming</td>\n",
       "    </tr>\n",
       "    <tr>\n",
       "      <th>9315</th>\n",
       "      <td>Lusk Police Department</td>\n",
       "      <td>5</td>\n",
       "      <td>1442</td>\n",
       "      <td>wyoming</td>\n",
       "    </tr>\n",
       "    <tr>\n",
       "      <th>9316</th>\n",
       "      <td>Torrington Police Department</td>\n",
       "      <td>14</td>\n",
       "      <td>6000</td>\n",
       "      <td>wyoming</td>\n",
       "    </tr>\n",
       "    <tr>\n",
       "      <th>9317</th>\n",
       "      <td>Wheatland Police Department</td>\n",
       "      <td>10</td>\n",
       "      <td>3500</td>\n",
       "      <td>wyoming</td>\n",
       "    </tr>\n",
       "    <tr>\n",
       "      <th>9318</th>\n",
       "      <td>Sinclair Police Department</td>\n",
       "      <td>6</td>\n",
       "      <td>500</td>\n",
       "      <td>wyoming</td>\n",
       "    </tr>\n",
       "    <tr>\n",
       "      <th>9319</th>\n",
       "      <td>Wamsutter Police Department</td>\n",
       "      <td>2</td>\n",
       "      <td>600</td>\n",
       "      <td>wyoming</td>\n",
       "    </tr>\n",
       "    <tr>\n",
       "      <th>9320</th>\n",
       "      <td>Lingle Police Department</td>\n",
       "      <td>1</td>\n",
       "      <td>500</td>\n",
       "      <td>wyoming</td>\n",
       "    </tr>\n",
       "    <tr>\n",
       "      <th>9321</th>\n",
       "      <td>Midwest Police Department</td>\n",
       "      <td>1</td>\n",
       "      <td>400</td>\n",
       "      <td>wyoming</td>\n",
       "    </tr>\n",
       "    <tr>\n",
       "      <th>9322</th>\n",
       "      <td>Hulett Police Department</td>\n",
       "      <td>3</td>\n",
       "      <td>600</td>\n",
       "      <td>wyoming</td>\n",
       "    </tr>\n",
       "    <tr>\n",
       "      <th>9323</th>\n",
       "      <td>Labarge Police Department</td>\n",
       "      <td>2</td>\n",
       "      <td>500</td>\n",
       "      <td>wyoming</td>\n",
       "    </tr>\n",
       "    <tr>\n",
       "      <th>9324</th>\n",
       "      <td>Encampment Police Department</td>\n",
       "      <td>2</td>\n",
       "      <td>490</td>\n",
       "      <td>wyoming</td>\n",
       "    </tr>\n",
       "    <tr>\n",
       "      <th>9325</th>\n",
       "      <td>Fort Laramie Police Department</td>\n",
       "      <td>1</td>\n",
       "      <td>243</td>\n",
       "      <td>wyoming</td>\n",
       "    </tr>\n",
       "    <tr>\n",
       "      <th>9326</th>\n",
       "      <td>Cokeville Police Department</td>\n",
       "      <td>7</td>\n",
       "      <td>600</td>\n",
       "      <td>wyoming</td>\n",
       "    </tr>\n",
       "    <tr>\n",
       "      <th>9327</th>\n",
       "      <td>Bairoil Police Department</td>\n",
       "      <td>2</td>\n",
       "      <td>150</td>\n",
       "      <td>wyoming</td>\n",
       "    </tr>\n",
       "    <tr>\n",
       "      <th>9328</th>\n",
       "      <td>Burns Police Department</td>\n",
       "      <td>1</td>\n",
       "      <td>285</td>\n",
       "      <td>wyoming</td>\n",
       "    </tr>\n",
       "    <tr>\n",
       "      <th>9329</th>\n",
       "      <td>Baggs Police Department</td>\n",
       "      <td>1</td>\n",
       "      <td>348</td>\n",
       "      <td>wyoming</td>\n",
       "    </tr>\n",
       "    <tr>\n",
       "      <th>9330</th>\n",
       "      <td>Cheyenne Police Department</td>\n",
       "      <td>94</td>\n",
       "      <td>53011</td>\n",
       "      <td>wyoming</td>\n",
       "    </tr>\n",
       "    <tr>\n",
       "      <th>9331</th>\n",
       "      <td>Casper Police Department</td>\n",
       "      <td>81</td>\n",
       "      <td>50000</td>\n",
       "      <td>wyoming</td>\n",
       "    </tr>\n",
       "  </tbody>\n",
       "</table>\n",
       "<p>9332 rows × 4 columns</p>\n",
       "</div>"
      ],
      "text/plain": [
       "                                  name officers      pop    state\n",
       "0      Union Springs Police Department  missing  missing  alabama\n",
       "1              Selma Police Department       64    21000  alabama\n",
       "2           Homewood Police Department       65    25000  alabama\n",
       "3         Prattville Police Department       79    26000  alabama\n",
       "4         Greenville Police Department       30    12000  alabama\n",
       "5         Enterprise Police Department       46    22000  alabama\n",
       "6     Mountain Brook Police Department       53    20490  alabama\n",
       "7     Vestavia Hills Police Department       35    20300  alabama\n",
       "8           Hueytown Police Department       24    20000  alabama\n",
       "9          Talladega Police Department       39    20000  alabama\n",
       "10           Madison Police Department       84    46200  alabama\n",
       "11            Athens Police Department       40    20000  alabama\n",
       "12           Cullman Police Department       45    20250  alabama\n",
       "13         Pell City Police Department       28    17000  alabama\n",
       "14         Northport Police Department       47    30000  alabama\n",
       "15      Jacksonville Police Department       22    16000  alabama\n",
       "16             Ozark Police Department       45    16000  alabama\n",
       "17       Albertville Police Department       36    15300  alabama\n",
       "18          Lockhart Police Department        3      500  alabama\n",
       "19         Hurtsboro Police Department        6     1500  alabama\n",
       "20         Cleveland Police Department        3     1000  alabama\n",
       "21        Priceville Police Department  missing  missing  alabama\n",
       "22              Webb Police Department  missing  missing  alabama\n",
       "23      Napier Field Police Department  missing  missing  alabama\n",
       "24         Woodstock Police Department        5  missing  alabama\n",
       "25          Trafford Police Department  missing  missing  alabama\n",
       "26            Steele Police Department  missing  missing  alabama\n",
       "27        Summerdale Police Department  missing  missing  alabama\n",
       "28            Taylor Police Department  missing  missing  alabama\n",
       "29        Somerville Police Department  missing  missing  alabama\n",
       "...                                ...      ...      ...      ...\n",
       "9302        Glenrock Police Department        6     3200  wyoming\n",
       "9303     Thermopolis Police Department        8     3500  wyoming\n",
       "9304        Riverton Police Department       22    12500  wyoming\n",
       "9305          Lander Police Department       17     7500  wyoming\n",
       "9306            Cody Police Department       19     9500  wyoming\n",
       "9307          Lovell Police Department        7     2400  wyoming\n",
       "9308          Powell Police Department       14     5373  wyoming\n",
       "9309         Worland Police Department       10     4800  wyoming\n",
       "9310           Basin Police Department        3     1180  wyoming\n",
       "9311         Rawlins Police Department       21     9000  wyoming\n",
       "9312        Hanna Marshal's Department        2     1065  wyoming\n",
       "9313        Saratoga Police Department        5     2000  wyoming\n",
       "9314        Guernsey Police Department        4     1500  wyoming\n",
       "9315            Lusk Police Department        5     1442  wyoming\n",
       "9316      Torrington Police Department       14     6000  wyoming\n",
       "9317       Wheatland Police Department       10     3500  wyoming\n",
       "9318        Sinclair Police Department        6      500  wyoming\n",
       "9319       Wamsutter Police Department        2      600  wyoming\n",
       "9320          Lingle Police Department        1      500  wyoming\n",
       "9321         Midwest Police Department        1      400  wyoming\n",
       "9322          Hulett Police Department        3      600  wyoming\n",
       "9323         Labarge Police Department        2      500  wyoming\n",
       "9324      Encampment Police Department        2      490  wyoming\n",
       "9325    Fort Laramie Police Department        1      243  wyoming\n",
       "9326       Cokeville Police Department        7      600  wyoming\n",
       "9327         Bairoil Police Department        2      150  wyoming\n",
       "9328           Burns Police Department        1      285  wyoming\n",
       "9329           Baggs Police Department        1      348  wyoming\n",
       "9330        Cheyenne Police Department       94    53011  wyoming\n",
       "9331          Casper Police Department       81    50000  wyoming\n",
       "\n",
       "[9332 rows x 4 columns]"
      ]
     },
     "execution_count": 13,
     "metadata": {},
     "output_type": "execute_result"
    }
   ],
   "source": [
    "us_PD"
   ]
  },
  {
   "cell_type": "code",
   "execution_count": 14,
   "metadata": {},
   "outputs": [],
   "source": [
    "us_PD.officers = us_PD.officers.map(try_convert)"
   ]
  },
  {
   "cell_type": "code",
   "execution_count": 15,
   "metadata": {},
   "outputs": [],
   "source": [
    "us_PD['pop'] = us_PD['pop'].map(try_convert)"
   ]
  },
  {
   "cell_type": "code",
   "execution_count": 16,
   "metadata": {},
   "outputs": [
    {
     "data": {
      "text/plain": [
       "name          0\n",
       "officers    498\n",
       "pop         657\n",
       "state         0\n",
       "dtype: int64"
      ]
     },
     "execution_count": 16,
     "metadata": {},
     "output_type": "execute_result"
    }
   ],
   "source": [
    "us_PD.isnull().sum()"
   ]
  },
  {
   "cell_type": "code",
   "execution_count": 17,
   "metadata": {},
   "outputs": [
    {
     "data": {
      "text/plain": [
       "<matplotlib.collections.PathCollection at 0x113005ba8>"
      ]
     },
     "execution_count": 17,
     "metadata": {},
     "output_type": "execute_result"
    },
    {
     "data": {
      "image/png": "[encoded data removed]",
      "text/plain": [
       "<matplotlib.figure.Figure at 0x112e0ddd8>"
      ]
     },
     "metadata": {},
     "output_type": "display_data"
    }
   ],
   "source": [
    "d= us_PD\n",
    "\n",
    "plt.figure(figsize=(12,12))\n",
    "\n",
    "plt.subplot(2,2,1)\n",
    "plt.title(s='normal')\n",
    "plt.scatter(data=d, x='officers', y='pop')\n",
    "\n",
    "plt.subplot(2,2,2)\n",
    "plt.title(s='log2')\n",
    "plt.scatter(x=np.log2(d['officers']), y=np.log2(d['pop']))\n",
    "\n",
    "plt.subplot(2,2,3)\n",
    "plt.title(s='nat log')\n",
    "plt.scatter(x=np.log(d['officers']), y=np.log(d['pop']))\n",
    "\n",
    "plt.subplot(2,2,4)\n",
    "plt.title(s='log10')\n",
    "plt.scatter(x=np.log10(d['officers']), y=np.log10(d['pop']))"
   ]
  },
  {
   "cell_type": "code",
   "execution_count": 96,
   "metadata": {},
   "outputs": [
    {
     "data": {
      "image/png": "[encoded data removed]",
      "text/plain": [
       "<matplotlib.figure.Figure at 0x1a1dd0dc50>"
      ]
     },
     "metadata": {},
     "output_type": "display_data"
    }
   ],
   "source": [
    "d = us_PD.groupby('state').sum()\n",
    "\n",
    "plt.figure(figsize=(14,8))\n",
    "\n",
    "plt.title(s='log2')\n",
    "plt.scatter(data=d, x=(d['officers']), y=(d['pop']));"
   ]
  },
  {
   "cell_type": "code",
   "execution_count": 19,
   "metadata": {},
   "outputs": [],
   "source": [
    "sumo = us_PD.groupby('state').sum().reset_index()\n",
    "counto = us_PD[['state','pop']].groupby('state').count().rename(columns={'pop':'depts'}).reset_index()\n",
    "all_data = pd.merge(sumo, counto, on='state')"
   ]
  },
  {
   "cell_type": "code",
   "execution_count": 74,
   "metadata": {},
   "outputs": [],
   "source": [
    "all_data['state'] = all_data['state'].map(lambda x: x.replace('-', ' '))"
   ]
  },
  {
   "cell_type": "code",
   "execution_count": 99,
   "metadata": {},
   "outputs": [
    {
     "data": {
      "image/png": "[encoded data removed]",
      "text/plain": [
       "<matplotlib.figure.Figure at 0x1a1f974470>"
      ]
     },
     "metadata": {},
     "output_type": "display_data"
    }
   ],
   "source": [
    "d = all_data\n",
    "\n",
    "plt.figure(figsize=(15,5))\n",
    "\n",
    "plt.subplots_adjust(left=None, bottom=None, right=None, top=None,\n",
    "                wspace=0.3, hspace=None)\n",
    "\n",
    "# plt.title(s='Officers v. Population, reported to PoliceOne.com', size=17)\n",
    "           \n",
    "plt.subplot(1,3,1)\n",
    "plt.title(s='normal')\n",
    "sns.regplot(data=d, x='officers', y='pop')\n",
    "plt.xlabel('reported population')\n",
    "plt.ylabel('reported officers');\n",
    "\n",
    "plt.subplot(1,3,2)\n",
    "l = 'log2'\n",
    "plt.title(s=f'{l}')\n",
    "sns.regplot(data=d, x=np.log2(d['officers']), y=np.log2(d['pop']))\n",
    "plt.xlabel(f'{l} reported population')\n",
    "plt.ylabel(f'{l} reported officers');\n",
    "\n",
    "plt.subplot(1,3,3)\n",
    "l2 = 'log 10'\n",
    "plt.title(s=f'')\n",
    "sns.regplot(x=d['pop'], y=(d['pop']/d['officers']), fit_reg=False)\n",
    "plt.xlabel('reported population')\n",
    "plt.ylabel('ppl per reported officer');"
   ]
  },
  {
   "cell_type": "code",
   "execution_count": 66,
   "metadata": {
    "collapsed": true
   },
   "outputs": [],
   "source": [
    "real_pop = pd.read_csv('nst-est2016-popchg2010_2016.csv')"
   ]
  },
  {
   "cell_type": "code",
   "execution_count": 77,
   "metadata": {},
   "outputs": [],
   "source": [
    "real_pop['NAME'] = real_pop[['NAME','POPESTIMATE2016']].NAME.map(lambda x: x.lower())"
   ]
  },
  {
   "cell_type": "code",
   "execution_count": 84,
   "metadata": {},
   "outputs": [],
   "source": [
    "all_data = pd.merge(all_data, real_pop[['NAME','POPESTIMATE2016']], left_on='state', right_on='NAME').drop('NAME', axis=1).rename(columns={'POPESTIMATE2016':'real_pop_2016'})"
   ]
  },
  {
   "cell_type": "code",
   "execution_count": 108,
   "metadata": {},
   "outputs": [
    {
     "data": {
      "text/html": [
       "<div>\n",
       "<style>\n",
       "    .dataframe thead tr:only-child th {\n",
       "        text-align: right;\n",
       "    }\n",
       "\n",
       "    .dataframe thead th {\n",
       "        text-align: left;\n",
       "    }\n",
       "\n",
       "    .dataframe tbody tr th {\n",
       "        vertical-align: top;\n",
       "    }\n",
       "</style>\n",
       "<table border=\"1\" class=\"dataframe\">\n",
       "  <thead>\n",
       "    <tr style=\"text-align: right;\">\n",
       "      <th></th>\n",
       "      <th>state</th>\n",
       "      <th>officers</th>\n",
       "      <th>pop</th>\n",
       "      <th>depts</th>\n",
       "      <th>real_pop_2016</th>\n",
       "    </tr>\n",
       "  </thead>\n",
       "  <tbody>\n",
       "    <tr>\n",
       "      <th>0</th>\n",
       "      <td>alabama</td>\n",
       "      <td>6382.0</td>\n",
       "      <td>2655312.0</td>\n",
       "      <td>207</td>\n",
       "      <td>4863300</td>\n",
       "    </tr>\n",
       "    <tr>\n",
       "      <th>1</th>\n",
       "      <td>alaska</td>\n",
       "      <td>841.0</td>\n",
       "      <td>179674.0</td>\n",
       "      <td>33</td>\n",
       "      <td>741894</td>\n",
       "    </tr>\n",
       "    <tr>\n",
       "      <th>2</th>\n",
       "      <td>arizona</td>\n",
       "      <td>8236.0</td>\n",
       "      <td>4150740.0</td>\n",
       "      <td>79</td>\n",
       "      <td>6931071</td>\n",
       "    </tr>\n",
       "    <tr>\n",
       "      <th>3</th>\n",
       "      <td>arkansas</td>\n",
       "      <td>3487.0</td>\n",
       "      <td>1440681.0</td>\n",
       "      <td>168</td>\n",
       "      <td>2988248</td>\n",
       "    </tr>\n",
       "    <tr>\n",
       "      <th>4</th>\n",
       "      <td>california</td>\n",
       "      <td>35327.0</td>\n",
       "      <td>20608951.0</td>\n",
       "      <td>329</td>\n",
       "      <td>39250017</td>\n",
       "    </tr>\n",
       "  </tbody>\n",
       "</table>\n",
       "</div>"
      ],
      "text/plain": [
       "        state  officers         pop  depts  real_pop_2016\n",
       "0     alabama    6382.0   2655312.0    207        4863300\n",
       "1      alaska     841.0    179674.0     33         741894\n",
       "2     arizona    8236.0   4150740.0     79        6931071\n",
       "3    arkansas    3487.0   1440681.0    168        2988248\n",
       "4  california   35327.0  20608951.0    329       39250017"
      ]
     },
     "execution_count": 108,
     "metadata": {},
     "output_type": "execute_result"
    }
   ],
   "source": [
    "all_data.head()"
   ]
  },
  {
   "cell_type": "code",
   "execution_count": 119,
   "metadata": {},
   "outputs": [
    {
     "data": {
      "image/png": "[encoded data removed]",
      "text/plain": [
       "<matplotlib.figure.Figure at 0x1a1dab7128>"
      ]
     },
     "metadata": {},
     "output_type": "display_data"
    }
   ],
   "source": [
    "d = all_data.melt(id_vars=['state'], value_vars=['pop', 'real_pop_2016'], var_name='pop_type', value_name='pop_num') \n",
    "\n",
    "plt.figure(figsize=(16,8))\n",
    "sns.barplot(data=d, x='state', y='pop_num', hue='pop_type')\n",
    "plt.xticks(rotation=90);"
   ]
  },
  {
   "cell_type": "code",
   "execution_count": 104,
   "metadata": {},
   "outputs": [
    {
     "data": {
      "image/png": "[encoded data removed]",
      "text/plain": [
       "<matplotlib.figure.Figure at 0x1a1e7dea20>"
      ]
     },
     "metadata": {},
     "output_type": "display_data"
    }
   ],
   "source": [
    "d = all_data\n",
    "\n",
    "plt.figure(figsize=(15,5))\n",
    "plt.subplots_adjust(left=None, bottom=None, right=None, top=None,\n",
    "                wspace=0.3, hspace=None)\n",
    "\n",
    "# plt.title(s='Officers v. Population, reported to PoliceOne.com', size=17)\n",
    "           \n",
    "plt.subplot(1,3,1)\n",
    "plt.title(s='normal')\n",
    "sns.regplot(data=d, x='officers', y='real_pop_2016')\n",
    "plt.xlabel('population 2016')\n",
    "plt.ylabel('reported officers');\n",
    "\n",
    "plt.subplot(1,3,2)\n",
    "l = 'log2'\n",
    "plt.title(s=f'{l}')\n",
    "sns.regplot(data=d, x=eval(f'(np.{l}(d[\\'officers\\']))'), y=eval(f'np.{l}(d[\\'real_pop_2016\\'])'))\n",
    "plt.xlabel(f'{l}population 2016')\n",
    "plt.ylabel(f'{l} reported officers');\n",
    "\n",
    "plt.subplot(1,3,3)\n",
    "l2 = 'log 10'\n",
    "plt.title(s=f'')\n",
    "sns.regplot(x=d['real_pop_2016'], y=(d['real_pop_2016']/d['officers']), fit_reg=False)\n",
    "plt.xlabel('population 2016')\n",
    "plt.ylabel('ppl per reported officer');"
   ]
  },
  {
   "cell_type": "code",
   "execution_count": 121,
   "metadata": {},
   "outputs": [],
   "source": [
    "us_PD['pop per cop'] = us_PD['pop']/us_PD['officers']"
   ]
  },
  {
   "cell_type": "code",
   "execution_count": 132,
   "metadata": {},
   "outputs": [
    {
     "data": {
      "text/plain": [
       "''"
      ]
     },
     "execution_count": 132,
     "metadata": {},
     "output_type": "execute_result"
    },
    {
     "data": {
      "image/png": "[encoded data removed]",
      "text/plain": [
       "<matplotlib.figure.Figure at 0x1a1ce1a2e8>"
      ]
     },
     "metadata": {},
     "output_type": "display_data"
    }
   ],
   "source": [
    "d = us_PD\n",
    "\n",
    "plt.figure(figsize=(14,8))\n",
    "l = 'log'\n",
    "plt.title(s=f'{l}')\n",
    "plt.(data=d, x=eval(f'(np.{l}(d[\\'pop\\']))'),\n",
    "            y=eval(f'(np.{l}(d[\\'pop per cop\\']))'), c=eval(f'(np.{l}(d[\\'officers\\']))'))\n",
    "plt.xlabel(f'{l} reported population')\n",
    "plt.ylabel(f'{l} (reported population / reported officers)')\n",
    ";"
   ]
  },
  {
   "cell_type": "code",
   "execution_count": 149,
   "metadata": {},
   "outputs": [
    {
     "data": {
      "image/png": "[encoded data removed]",
      "text/plain": [
       "<matplotlib.figure.Figure at 0x1a1ce2a5f8>"
      ]
     },
     "metadata": {},
     "output_type": "display_data"
    }
   ],
   "source": [
    "d = us_PD\n",
    "l = 'log'\n",
    "sns.jointplot(data=d,\n",
    "              x=eval(f'(np.{l}(d[\\'pop\\']))'), y=eval(f'(np.{l}(d[\\'pop per cop\\']))'),\n",
    "              size=8, ratio=4);"
   ]
  },
  {
   "cell_type": "code",
   "execution_count": 165,
   "metadata": {},
   "outputs": [
    {
     "data": {
      "text/plain": [
       "<matplotlib.axes._subplots.AxesSubplot at 0x1a205eb518>"
      ]
     },
     "execution_count": 165,
     "metadata": {},
     "output_type": "execute_result"
    },
    {
     "data": {
      "image/png": "[encoded data removed]",
      "text/plain": [
       "<matplotlib.figure.Figure at 0x1a1fc3eac8>"
      ]
     },
     "metadata": {},
     "output_type": "display_data"
    }
   ],
   "source": [
    "plt.figure(figsize=(16,5))\n",
    "np.log(us_PD['pop per cop']).hist(bins=50, ec='w', lw=2)"
   ]
  },
  {
   "cell_type": "code",
   "execution_count": 169,
   "metadata": {},
   "outputs": [
    {
     "data": {
      "text/html": [
       "<div>\n",
       "<style>\n",
       "    .dataframe thead tr:only-child th {\n",
       "        text-align: right;\n",
       "    }\n",
       "\n",
       "    .dataframe thead th {\n",
       "        text-align: left;\n",
       "    }\n",
       "\n",
       "    .dataframe tbody tr th {\n",
       "        vertical-align: top;\n",
       "    }\n",
       "</style>\n",
       "<table border=\"1\" class=\"dataframe\">\n",
       "  <thead>\n",
       "    <tr style=\"text-align: right;\">\n",
       "      <th></th>\n",
       "      <th>count</th>\n",
       "      <th>mean</th>\n",
       "      <th>std</th>\n",
       "      <th>min</th>\n",
       "      <th>25%</th>\n",
       "      <th>50%</th>\n",
       "      <th>75%</th>\n",
       "      <th>max</th>\n",
       "    </tr>\n",
       "  </thead>\n",
       "  <tbody>\n",
       "    <tr>\n",
       "      <th>officers</th>\n",
       "      <td>8834.0</td>\n",
       "      <td>43.138895</td>\n",
       "      <td>492.558756</td>\n",
       "      <td>1.0</td>\n",
       "      <td>6.000000</td>\n",
       "      <td>11.000000</td>\n",
       "      <td>25.000000</td>\n",
       "      <td>40000.0</td>\n",
       "    </tr>\n",
       "    <tr>\n",
       "      <th>pop</th>\n",
       "      <td>8675.0</td>\n",
       "      <td>18032.280922</td>\n",
       "      <td>114514.140913</td>\n",
       "      <td>52.0</td>\n",
       "      <td>1959.000000</td>\n",
       "      <td>4452.000000</td>\n",
       "      <td>12000.000000</td>\n",
       "      <td>8000000.0</td>\n",
       "    </tr>\n",
       "    <tr>\n",
       "      <th>pop per cop</th>\n",
       "      <td>8661.0</td>\n",
       "      <td>485.507920</td>\n",
       "      <td>387.381413</td>\n",
       "      <td>2.6</td>\n",
       "      <td>308.527132</td>\n",
       "      <td>437.766467</td>\n",
       "      <td>598.214286</td>\n",
       "      <td>20000.0</td>\n",
       "    </tr>\n",
       "  </tbody>\n",
       "</table>\n",
       "</div>"
      ],
      "text/plain": [
       "              count          mean            std   min          25%  \\\n",
       "officers     8834.0     43.138895     492.558756   1.0     6.000000   \n",
       "pop          8675.0  18032.280922  114514.140913  52.0  1959.000000   \n",
       "pop per cop  8661.0    485.507920     387.381413   2.6   308.527132   \n",
       "\n",
       "                     50%           75%        max  \n",
       "officers       11.000000     25.000000    40000.0  \n",
       "pop          4452.000000  12000.000000  8000000.0  \n",
       "pop per cop   437.766467    598.214286    20000.0  "
      ]
     },
     "execution_count": 169,
     "metadata": {},
     "output_type": "execute_result"
    }
   ],
   "source": [
    "us_PD.describe().T"
   ]
  },
  {
   "cell_type": "code",
   "execution_count": 209,
   "metadata": {},
   "outputs": [],
   "source": [
    "words = {}\n",
    "for pol in us_PD['name']:\n",
    "    n2 = pol.split()\n",
    "    for n in n2:\n",
    "        if n in words.keys():\n",
    "            words[n] += 1\n",
    "        else:\n",
    "            words[n] = 1"
   ]
  },
  {
   "cell_type": "code",
   "execution_count": 218,
   "metadata": {},
   "outputs": [
    {
     "data": {
      "text/html": [
       "<div>\n",
       "<style>\n",
       "    .dataframe thead tr:only-child th {\n",
       "        text-align: right;\n",
       "    }\n",
       "\n",
       "    .dataframe thead th {\n",
       "        text-align: left;\n",
       "    }\n",
       "\n",
       "    .dataframe tbody tr th {\n",
       "        vertical-align: top;\n",
       "    }\n",
       "</style>\n",
       "<table border=\"1\" class=\"dataframe\">\n",
       "  <thead>\n",
       "    <tr style=\"text-align: right;\">\n",
       "      <th></th>\n",
       "      <th>count</th>\n",
       "    </tr>\n",
       "  </thead>\n",
       "  <tbody>\n",
       "    <tr>\n",
       "      <th>Department</th>\n",
       "      <td>9199</td>\n",
       "    </tr>\n",
       "    <tr>\n",
       "      <th>Police</th>\n",
       "      <td>9142</td>\n",
       "    </tr>\n",
       "    <tr>\n",
       "      <th>City</th>\n",
       "      <td>399</td>\n",
       "    </tr>\n",
       "    <tr>\n",
       "      <th>Township</th>\n",
       "      <td>328</td>\n",
       "    </tr>\n",
       "    <tr>\n",
       "      <th>Village</th>\n",
       "      <td>255</td>\n",
       "    </tr>\n",
       "    <tr>\n",
       "      <th>of</th>\n",
       "      <td>200</td>\n",
       "    </tr>\n",
       "    <tr>\n",
       "      <th>Lake</th>\n",
       "      <td>141</td>\n",
       "    </tr>\n",
       "    <tr>\n",
       "      <th>Safety</th>\n",
       "      <td>137</td>\n",
       "    </tr>\n",
       "    <tr>\n",
       "      <th>Public</th>\n",
       "      <td>133</td>\n",
       "    </tr>\n",
       "    <tr>\n",
       "      <th>Town</th>\n",
       "      <td>131</td>\n",
       "    </tr>\n",
       "    <tr>\n",
       "      <th>Park</th>\n",
       "      <td>121</td>\n",
       "    </tr>\n",
       "    <tr>\n",
       "      <th>New</th>\n",
       "      <td>103</td>\n",
       "    </tr>\n",
       "    <tr>\n",
       "      <th>Borough</th>\n",
       "      <td>93</td>\n",
       "    </tr>\n",
       "    <tr>\n",
       "      <th>West</th>\n",
       "      <td>79</td>\n",
       "    </tr>\n",
       "    <tr>\n",
       "      <th>Springs</th>\n",
       "      <td>68</td>\n",
       "    </tr>\n",
       "    <tr>\n",
       "      <th>Beach</th>\n",
       "      <td>65</td>\n",
       "    </tr>\n",
       "    <tr>\n",
       "      <th>North</th>\n",
       "      <td>62</td>\n",
       "    </tr>\n",
       "    <tr>\n",
       "      <th>St</th>\n",
       "      <td>56</td>\n",
       "    </tr>\n",
       "    <tr>\n",
       "      <th>Grove</th>\n",
       "      <td>55</td>\n",
       "    </tr>\n",
       "    <tr>\n",
       "      <th>Hill</th>\n",
       "      <td>52</td>\n",
       "    </tr>\n",
       "    <tr>\n",
       "      <th>Falls</th>\n",
       "      <td>51</td>\n",
       "    </tr>\n",
       "    <tr>\n",
       "      <th>Hills</th>\n",
       "      <td>50</td>\n",
       "    </tr>\n",
       "    <tr>\n",
       "      <th>Boro</th>\n",
       "      <td>47</td>\n",
       "    </tr>\n",
       "    <tr>\n",
       "      <th>Mount</th>\n",
       "      <td>46</td>\n",
       "    </tr>\n",
       "    <tr>\n",
       "      <th>South</th>\n",
       "      <td>46</td>\n",
       "    </tr>\n",
       "    <tr>\n",
       "      <th>East</th>\n",
       "      <td>45</td>\n",
       "    </tr>\n",
       "    <tr>\n",
       "      <th>Valley</th>\n",
       "      <td>45</td>\n",
       "    </tr>\n",
       "    <tr>\n",
       "      <th>Port</th>\n",
       "      <td>40</td>\n",
       "    </tr>\n",
       "    <tr>\n",
       "      <th>Point</th>\n",
       "      <td>37</td>\n",
       "    </tr>\n",
       "    <tr>\n",
       "      <th>Heights</th>\n",
       "      <td>35</td>\n",
       "    </tr>\n",
       "    <tr>\n",
       "      <th>...</th>\n",
       "      <td>...</td>\n",
       "    </tr>\n",
       "    <tr>\n",
       "      <th>Harveys</th>\n",
       "      <td>1</td>\n",
       "    </tr>\n",
       "    <tr>\n",
       "      <th>Hartwell</th>\n",
       "      <td>1</td>\n",
       "    </tr>\n",
       "    <tr>\n",
       "      <th>Hartsville</th>\n",
       "      <td>1</td>\n",
       "    </tr>\n",
       "    <tr>\n",
       "      <th>Hartselle</th>\n",
       "      <td>1</td>\n",
       "    </tr>\n",
       "    <tr>\n",
       "      <th>Hartleton</th>\n",
       "      <td>1</td>\n",
       "    </tr>\n",
       "    <tr>\n",
       "      <th>Harrodsburg</th>\n",
       "      <td>1</td>\n",
       "    </tr>\n",
       "    <tr>\n",
       "      <th>Harrisonville</th>\n",
       "      <td>1</td>\n",
       "    </tr>\n",
       "    <tr>\n",
       "      <th>Harrington</th>\n",
       "      <td>1</td>\n",
       "    </tr>\n",
       "    <tr>\n",
       "      <th>Harrah</th>\n",
       "      <td>1</td>\n",
       "    </tr>\n",
       "    <tr>\n",
       "      <th>Harpersville</th>\n",
       "      <td>1</td>\n",
       "    </tr>\n",
       "    <tr>\n",
       "      <th>Harper</th>\n",
       "      <td>1</td>\n",
       "    </tr>\n",
       "    <tr>\n",
       "      <th>Hatton</th>\n",
       "      <td>1</td>\n",
       "    </tr>\n",
       "    <tr>\n",
       "      <th>Haubstadt</th>\n",
       "      <td>1</td>\n",
       "    </tr>\n",
       "    <tr>\n",
       "      <th>Haughton</th>\n",
       "      <td>1</td>\n",
       "    </tr>\n",
       "    <tr>\n",
       "      <th>Hawthorn</th>\n",
       "      <td>1</td>\n",
       "    </tr>\n",
       "    <tr>\n",
       "      <th>Haysville</th>\n",
       "      <td>1</td>\n",
       "    </tr>\n",
       "    <tr>\n",
       "      <th>Hays</th>\n",
       "      <td>1</td>\n",
       "    </tr>\n",
       "    <tr>\n",
       "      <th>Hayneville</th>\n",
       "      <td>1</td>\n",
       "    </tr>\n",
       "    <tr>\n",
       "      <th>Haymarket</th>\n",
       "      <td>1</td>\n",
       "    </tr>\n",
       "    <tr>\n",
       "      <th>Haxtun</th>\n",
       "      <td>1</td>\n",
       "    </tr>\n",
       "    <tr>\n",
       "      <th>Hawthorne</th>\n",
       "      <td>1</td>\n",
       "    </tr>\n",
       "    <tr>\n",
       "      <th>Hawkinsville</th>\n",
       "      <td>1</td>\n",
       "    </tr>\n",
       "    <tr>\n",
       "      <th>Havasu</th>\n",
       "      <td>1</td>\n",
       "    </tr>\n",
       "    <tr>\n",
       "      <th>Hawkins</th>\n",
       "      <td>1</td>\n",
       "    </tr>\n",
       "    <tr>\n",
       "      <th>Hawesville</th>\n",
       "      <td>1</td>\n",
       "    </tr>\n",
       "    <tr>\n",
       "      <th>Hawarden</th>\n",
       "      <td>1</td>\n",
       "    </tr>\n",
       "    <tr>\n",
       "      <th>Haw</th>\n",
       "      <td>1</td>\n",
       "    </tr>\n",
       "    <tr>\n",
       "      <th>Haverford</th>\n",
       "      <td>1</td>\n",
       "    </tr>\n",
       "    <tr>\n",
       "      <th>Havelock</th>\n",
       "      <td>1</td>\n",
       "    </tr>\n",
       "    <tr>\n",
       "      <th>the</th>\n",
       "      <td>1</td>\n",
       "    </tr>\n",
       "  </tbody>\n",
       "</table>\n",
       "<p>5819 rows × 1 columns</p>\n",
       "</div>"
      ],
      "text/plain": [
       "               count\n",
       "Department      9199\n",
       "Police          9142\n",
       "City             399\n",
       "Township         328\n",
       "Village          255\n",
       "of               200\n",
       "Lake             141\n",
       "Safety           137\n",
       "Public           133\n",
       "Town             131\n",
       "Park             121\n",
       "New              103\n",
       "Borough           93\n",
       "West              79\n",
       "Springs           68\n",
       "Beach             65\n",
       "North             62\n",
       "St                56\n",
       "Grove             55\n",
       "Hill              52\n",
       "Falls             51\n",
       "Hills             50\n",
       "Boro              47\n",
       "Mount             46\n",
       "South             46\n",
       "East              45\n",
       "Valley            45\n",
       "Port              40\n",
       "Point             37\n",
       "Heights           35\n",
       "...              ...\n",
       "Harveys            1\n",
       "Hartwell           1\n",
       "Hartsville         1\n",
       "Hartselle          1\n",
       "Hartleton          1\n",
       "Harrodsburg        1\n",
       "Harrisonville      1\n",
       "Harrington         1\n",
       "Harrah             1\n",
       "Harpersville       1\n",
       "Harper             1\n",
       "Hatton             1\n",
       "Haubstadt          1\n",
       "Haughton           1\n",
       "Hawthorn           1\n",
       "Haysville          1\n",
       "Hays               1\n",
       "Hayneville         1\n",
       "Haymarket          1\n",
       "Haxtun             1\n",
       "Hawthorne          1\n",
       "Hawkinsville       1\n",
       "Havasu             1\n",
       "Hawkins            1\n",
       "Hawesville         1\n",
       "Hawarden           1\n",
       "Haw                1\n",
       "Haverford          1\n",
       "Havelock           1\n",
       "the                1\n",
       "\n",
       "[5819 rows x 1 columns]"
      ]
     },
     "execution_count": 218,
     "metadata": {},
     "output_type": "execute_result"
    }
   ],
   "source": [
    "pd.DataFrame(words, index=['count']).T.sort_values('count', ascending=False)"
   ]
  },
  {
   "cell_type": "code",
   "execution_count": 219,
   "metadata": {
    "collapsed": true
   },
   "outputs": [],
   "source": [
    "stops = ['Department','Police', 'Safety', 'Public']"
   ]
  },
  {
   "cell_type": "code",
   "execution_count": 221,
   "metadata": {},
   "outputs": [
    {
     "data": {
      "text/plain": [
       "['Mitchell Department of Public Safety', 'stop']"
      ]
     },
     "execution_count": 221,
     "metadata": {},
     "output_type": "execute_result"
    }
   ],
   "source": [
    "[p] + ['stop']"
   ]
  },
  {
   "cell_type": "code",
   "execution_count": 199,
   "metadata": {},
   "outputs": [
    {
     "data": {
      "text/plain": [
       "['Mitchell', 'Department', 'of', 'Public', 'Safety']"
      ]
     },
     "execution_count": 199,
     "metadata": {},
     "output_type": "execute_result"
    }
   ],
   "source": [
    "p.split()"
   ]
  },
  {
   "cell_type": "code",
   "execution_count": 179,
   "metadata": {},
   "outputs": [
    {
     "name": "stdout",
     "output_type": "stream",
     "text": [
      "Requirement already satisfied: GeoPy in /anaconda3/lib/python3.6/site-packages (1.14.0)\r\n",
      "Requirement already satisfied: geographiclib<2,>=1.49 in /anaconda3/lib/python3.6/site-packages (from GeoPy) (1.49)\r\n"
     ]
    }
   ],
   "source": [
    "!pip install GeoPy"
   ]
  },
  {
   "cell_type": "code",
   "execution_count": 180,
   "metadata": {},
   "outputs": [
    {
     "name": "stdout",
     "output_type": "stream",
     "text": [
      "Flatiron Building, 175, 5th Avenue, Flatiron District, Manhattan, Manhattan Community Board 5, New York County, NYC, New York, 10010, United States of America\n"
     ]
    }
   ],
   "source": [
    "from geopy.geocoders import Nominatim\n",
    "geolocator = Nominatim()\n",
    "location = geolocator.geocode(\"175 5th Avenue NYC\")\n",
    "print(location.address)"
   ]
  },
  {
   "cell_type": "code",
   "execution_count": 183,
   "metadata": {},
   "outputs": [
    {
     "data": {
      "text/plain": [
       "40.7410861"
      ]
     },
     "execution_count": 183,
     "metadata": {},
     "output_type": "execute_result"
    }
   ],
   "source": [
    "geolocator.geocode(\"175 5th Avenue NYC\").latitude"
   ]
  },
  {
   "cell_type": "code",
   "execution_count": 184,
   "metadata": {},
   "outputs": [
    {
     "data": {
      "text/html": [
       "<div>\n",
       "<style>\n",
       "    .dataframe thead tr:only-child th {\n",
       "        text-align: right;\n",
       "    }\n",
       "\n",
       "    .dataframe thead th {\n",
       "        text-align: left;\n",
       "    }\n",
       "\n",
       "    .dataframe tbody tr th {\n",
       "        vertical-align: top;\n",
       "    }\n",
       "</style>\n",
       "<table border=\"1\" class=\"dataframe\">\n",
       "  <thead>\n",
       "    <tr style=\"text-align: right;\">\n",
       "      <th></th>\n",
       "      <th>name</th>\n",
       "      <th>officers</th>\n",
       "      <th>pop</th>\n",
       "      <th>state</th>\n",
       "      <th>pop per cop</th>\n",
       "    </tr>\n",
       "  </thead>\n",
       "  <tbody>\n",
       "    <tr>\n",
       "      <th>0</th>\n",
       "      <td>Union Springs Police Department</td>\n",
       "      <td>NaN</td>\n",
       "      <td>NaN</td>\n",
       "      <td>alabama</td>\n",
       "      <td>NaN</td>\n",
       "    </tr>\n",
       "    <tr>\n",
       "      <th>1</th>\n",
       "      <td>Selma Police Department</td>\n",
       "      <td>64.0</td>\n",
       "      <td>21000.0</td>\n",
       "      <td>alabama</td>\n",
       "      <td>328.125000</td>\n",
       "    </tr>\n",
       "    <tr>\n",
       "      <th>2</th>\n",
       "      <td>Homewood Police Department</td>\n",
       "      <td>65.0</td>\n",
       "      <td>25000.0</td>\n",
       "      <td>alabama</td>\n",
       "      <td>384.615385</td>\n",
       "    </tr>\n",
       "    <tr>\n",
       "      <th>3</th>\n",
       "      <td>Prattville Police Department</td>\n",
       "      <td>79.0</td>\n",
       "      <td>26000.0</td>\n",
       "      <td>alabama</td>\n",
       "      <td>329.113924</td>\n",
       "    </tr>\n",
       "    <tr>\n",
       "      <th>4</th>\n",
       "      <td>Greenville Police Department</td>\n",
       "      <td>30.0</td>\n",
       "      <td>12000.0</td>\n",
       "      <td>alabama</td>\n",
       "      <td>400.000000</td>\n",
       "    </tr>\n",
       "  </tbody>\n",
       "</table>\n",
       "</div>"
      ],
      "text/plain": [
       "                              name  officers      pop    state  pop per cop\n",
       "0  Union Springs Police Department       NaN      NaN  alabama          NaN\n",
       "1          Selma Police Department      64.0  21000.0  alabama   328.125000\n",
       "2       Homewood Police Department      65.0  25000.0  alabama   384.615385\n",
       "3     Prattville Police Department      79.0  26000.0  alabama   329.113924\n",
       "4     Greenville Police Department      30.0  12000.0  alabama   400.000000"
      ]
     },
     "execution_count": 184,
     "metadata": {},
     "output_type": "execute_result"
    }
   ],
   "source": [
    "us_PD.head()"
   ]
  },
  {
   "cell_type": "code",
   "execution_count": 303,
   "metadata": {
    "collapsed": true
   },
   "outputs": [],
   "source": [
    "def pull_coords(row, stops = ['Department','Police', 'Safety', 'Public']):\n",
    "    name = row['name']\n",
    "    state = row['state']\n",
    "    full = [w for w in name.split() if w not in stops] + [state]\n",
    "#     print(full)\n",
    "    loc = geolocator.geocode(full, timeout=10)\n",
    "#     print(loc)\n",
    "    try:\n",
    "        lat = loc.latitude\n",
    "    except AttributeError:\n",
    "        lat = np.NaN\n",
    "    try:\n",
    "        lon = loc.longitude\n",
    "    except AttributeError:\n",
    "        lon = np.NaN\n",
    "#     print(lat, lon)\n",
    "    return (lat, lon)"
   ]
  },
  {
   "cell_type": "code",
   "execution_count": 283,
   "metadata": {
    "collapsed": true
   },
   "outputs": [],
   "source": [
    "us_PD['lat'] = 0\n",
    "us_PD['lon'] = 0"
   ]
  },
  {
   "cell_type": "code",
   "execution_count": 309,
   "metadata": {},
   "outputs": [
    {
     "name": "stdout",
     "output_type": "stream",
     "text": [
      "1647\n",
      "name           Salmon Police Department\n",
      "officers                              6\n",
      "pop                                4200\n",
      "state                             idaho\n",
      "pop per cop                         700\n",
      "coords                                0\n",
      "lat                                   0\n",
      "lon                                   0\n",
      "Name: 1647, dtype: object\n"
     ]
    }
   ],
   "source": [
    "print(counter)\n",
    "print(us_PD.iloc[counter,:])"
   ]
  },
  {
   "cell_type": "code",
   "execution_count": 314,
   "metadata": {
    "scrolled": false
   },
   "outputs": [
    {
     "name": "stdout",
     "output_type": "stream",
     "text": [
      "idaho\n"
     ]
    },
    {
     "ename": "GeocoderServiceError",
     "evalue": "HTTP Error 429: Too Many Requests",
     "output_type": "error",
     "traceback": [
      "\u001b[0;31m---------------------------------------------------------------------------\u001b[0m",
      "\u001b[0;31mHTTPError\u001b[0m                                 Traceback (most recent call last)",
      "\u001b[0;32m/anaconda3/lib/python3.6/site-packages/geopy/geocoders/base.py\u001b[0m in \u001b[0;36m_call_geocoder\u001b[0;34m(self, url, timeout, raw, requester, deserializer, **kwargs)\u001b[0m\n\u001b[1;32m    271\u001b[0m         \u001b[0;32mtry\u001b[0m\u001b[0;34m:\u001b[0m\u001b[0;34m\u001b[0m\u001b[0m\n\u001b[0;32m--> 272\u001b[0;31m             \u001b[0mpage\u001b[0m \u001b[0;34m=\u001b[0m \u001b[0mrequester\u001b[0m\u001b[0;34m(\u001b[0m\u001b[0mreq\u001b[0m\u001b[0;34m,\u001b[0m \u001b[0mtimeout\u001b[0m\u001b[0;34m=\u001b[0m\u001b[0mtimeout\u001b[0m\u001b[0;34m,\u001b[0m \u001b[0;34m**\u001b[0m\u001b[0mkwargs\u001b[0m\u001b[0;34m)\u001b[0m\u001b[0;34m\u001b[0m\u001b[0m\n\u001b[0m\u001b[1;32m    273\u001b[0m         \u001b[0;32mexcept\u001b[0m \u001b[0mException\u001b[0m \u001b[0;32mas\u001b[0m \u001b[0merror\u001b[0m\u001b[0;34m:\u001b[0m \u001b[0;31m# pylint: disable=W0703\u001b[0m\u001b[0;34m\u001b[0m\u001b[0m\n",
      "\u001b[0;32m/anaconda3/lib/python3.6/urllib/request.py\u001b[0m in \u001b[0;36mopen\u001b[0;34m(self, fullurl, data, timeout)\u001b[0m\n\u001b[1;32m    531\u001b[0m             \u001b[0mmeth\u001b[0m \u001b[0;34m=\u001b[0m \u001b[0mgetattr\u001b[0m\u001b[0;34m(\u001b[0m\u001b[0mprocessor\u001b[0m\u001b[0;34m,\u001b[0m \u001b[0mmeth_name\u001b[0m\u001b[0;34m)\u001b[0m\u001b[0;34m\u001b[0m\u001b[0m\n\u001b[0;32m--> 532\u001b[0;31m             \u001b[0mresponse\u001b[0m \u001b[0;34m=\u001b[0m \u001b[0mmeth\u001b[0m\u001b[0;34m(\u001b[0m\u001b[0mreq\u001b[0m\u001b[0;34m,\u001b[0m \u001b[0mresponse\u001b[0m\u001b[0;34m)\u001b[0m\u001b[0;34m\u001b[0m\u001b[0m\n\u001b[0m\u001b[1;32m    533\u001b[0m \u001b[0;34m\u001b[0m\u001b[0m\n",
      "\u001b[0;32m/anaconda3/lib/python3.6/urllib/request.py\u001b[0m in \u001b[0;36mhttp_response\u001b[0;34m(self, request, response)\u001b[0m\n\u001b[1;32m    641\u001b[0m             response = self.parent.error(\n\u001b[0;32m--> 642\u001b[0;31m                 'http', request, response, code, msg, hdrs)\n\u001b[0m\u001b[1;32m    643\u001b[0m \u001b[0;34m\u001b[0m\u001b[0m\n",
      "\u001b[0;32m/anaconda3/lib/python3.6/urllib/request.py\u001b[0m in \u001b[0;36merror\u001b[0;34m(self, proto, *args)\u001b[0m\n\u001b[1;32m    569\u001b[0m             \u001b[0margs\u001b[0m \u001b[0;34m=\u001b[0m \u001b[0;34m(\u001b[0m\u001b[0mdict\u001b[0m\u001b[0;34m,\u001b[0m \u001b[0;34m'default'\u001b[0m\u001b[0;34m,\u001b[0m \u001b[0;34m'http_error_default'\u001b[0m\u001b[0;34m)\u001b[0m \u001b[0;34m+\u001b[0m \u001b[0morig_args\u001b[0m\u001b[0;34m\u001b[0m\u001b[0m\n\u001b[0;32m--> 570\u001b[0;31m             \u001b[0;32mreturn\u001b[0m \u001b[0mself\u001b[0m\u001b[0;34m.\u001b[0m\u001b[0m_call_chain\u001b[0m\u001b[0;34m(\u001b[0m\u001b[0;34m*\u001b[0m\u001b[0margs\u001b[0m\u001b[0;34m)\u001b[0m\u001b[0;34m\u001b[0m\u001b[0m\n\u001b[0m\u001b[1;32m    571\u001b[0m \u001b[0;34m\u001b[0m\u001b[0m\n",
      "\u001b[0;32m/anaconda3/lib/python3.6/urllib/request.py\u001b[0m in \u001b[0;36m_call_chain\u001b[0;34m(self, chain, kind, meth_name, *args)\u001b[0m\n\u001b[1;32m    503\u001b[0m             \u001b[0mfunc\u001b[0m \u001b[0;34m=\u001b[0m \u001b[0mgetattr\u001b[0m\u001b[0;34m(\u001b[0m\u001b[0mhandler\u001b[0m\u001b[0;34m,\u001b[0m \u001b[0mmeth_name\u001b[0m\u001b[0;34m)\u001b[0m\u001b[0;34m\u001b[0m\u001b[0m\n\u001b[0;32m--> 504\u001b[0;31m             \u001b[0mresult\u001b[0m \u001b[0;34m=\u001b[0m \u001b[0mfunc\u001b[0m\u001b[0;34m(\u001b[0m\u001b[0;34m*\u001b[0m\u001b[0margs\u001b[0m\u001b[0;34m)\u001b[0m\u001b[0;34m\u001b[0m\u001b[0m\n\u001b[0m\u001b[1;32m    505\u001b[0m             \u001b[0;32mif\u001b[0m \u001b[0mresult\u001b[0m \u001b[0;32mis\u001b[0m \u001b[0;32mnot\u001b[0m \u001b[0;32mNone\u001b[0m\u001b[0;34m:\u001b[0m\u001b[0;34m\u001b[0m\u001b[0m\n",
      "\u001b[0;32m/anaconda3/lib/python3.6/urllib/request.py\u001b[0m in \u001b[0;36mhttp_error_default\u001b[0;34m(self, req, fp, code, msg, hdrs)\u001b[0m\n\u001b[1;32m    649\u001b[0m     \u001b[0;32mdef\u001b[0m \u001b[0mhttp_error_default\u001b[0m\u001b[0;34m(\u001b[0m\u001b[0mself\u001b[0m\u001b[0;34m,\u001b[0m \u001b[0mreq\u001b[0m\u001b[0;34m,\u001b[0m \u001b[0mfp\u001b[0m\u001b[0;34m,\u001b[0m \u001b[0mcode\u001b[0m\u001b[0;34m,\u001b[0m \u001b[0mmsg\u001b[0m\u001b[0;34m,\u001b[0m \u001b[0mhdrs\u001b[0m\u001b[0;34m)\u001b[0m\u001b[0;34m:\u001b[0m\u001b[0;34m\u001b[0m\u001b[0m\n\u001b[0;32m--> 650\u001b[0;31m         \u001b[0;32mraise\u001b[0m \u001b[0mHTTPError\u001b[0m\u001b[0;34m(\u001b[0m\u001b[0mreq\u001b[0m\u001b[0;34m.\u001b[0m\u001b[0mfull_url\u001b[0m\u001b[0;34m,\u001b[0m \u001b[0mcode\u001b[0m\u001b[0;34m,\u001b[0m \u001b[0mmsg\u001b[0m\u001b[0;34m,\u001b[0m \u001b[0mhdrs\u001b[0m\u001b[0;34m,\u001b[0m \u001b[0mfp\u001b[0m\u001b[0;34m)\u001b[0m\u001b[0;34m\u001b[0m\u001b[0m\n\u001b[0m\u001b[1;32m    651\u001b[0m \u001b[0;34m\u001b[0m\u001b[0m\n",
      "\u001b[0;31mHTTPError\u001b[0m: HTTP Error 429: Too Many Requests",
      "\nDuring handling of the above exception, another exception occurred:\n",
      "\u001b[0;31mKeyError\u001b[0m                                  Traceback (most recent call last)",
      "\u001b[0;32m/anaconda3/lib/python3.6/site-packages/geopy/geocoders/base.py\u001b[0m in \u001b[0;36m_call_geocoder\u001b[0;34m(self, url, timeout, raw, requester, deserializer, **kwargs)\u001b[0m\n\u001b[1;32m    285\u001b[0m                 \u001b[0;32mtry\u001b[0m\u001b[0;34m:\u001b[0m\u001b[0;34m\u001b[0m\u001b[0m\n\u001b[0;32m--> 286\u001b[0;31m                     \u001b[0;32mraise\u001b[0m \u001b[0mERROR_CODE_MAP\u001b[0m\u001b[0;34m[\u001b[0m\u001b[0mcode\u001b[0m\u001b[0;34m]\u001b[0m\u001b[0;34m(\u001b[0m\u001b[0mmessage\u001b[0m\u001b[0;34m)\u001b[0m\u001b[0;34m\u001b[0m\u001b[0m\n\u001b[0m\u001b[1;32m    287\u001b[0m                 \u001b[0;32mexcept\u001b[0m \u001b[0mKeyError\u001b[0m\u001b[0;34m:\u001b[0m\u001b[0;34m\u001b[0m\u001b[0m\n",
      "\u001b[0;31mKeyError\u001b[0m: 429",
      "\nDuring handling of the above exception, another exception occurred:\n",
      "\u001b[0;31mGeocoderServiceError\u001b[0m                      Traceback (most recent call last)",
      "\u001b[0;32m<ipython-input-314-cac63369600a>\u001b[0m in \u001b[0;36m<module>\u001b[0;34m()\u001b[0m\n\u001b[1;32m      7\u001b[0m         \u001b[0mprint\u001b[0m\u001b[0;34m(\u001b[0m\u001b[0mnew_state\u001b[0m\u001b[0;34m)\u001b[0m\u001b[0;34m\u001b[0m\u001b[0m\n\u001b[1;32m      8\u001b[0m         \u001b[0mstate\u001b[0m \u001b[0;34m=\u001b[0m \u001b[0mnew_state\u001b[0m\u001b[0;34m\u001b[0m\u001b[0m\n\u001b[0;32m----> 9\u001b[0;31m     \u001b[0mc\u001b[0m \u001b[0;34m=\u001b[0m \u001b[0mpull_coords\u001b[0m\u001b[0;34m(\u001b[0m\u001b[0mr\u001b[0m\u001b[0;34m)\u001b[0m\u001b[0;34m\u001b[0m\u001b[0m\n\u001b[0m\u001b[1;32m     10\u001b[0m     \u001b[0mus_PD\u001b[0m\u001b[0;34m.\u001b[0m\u001b[0mloc\u001b[0m\u001b[0;34m[\u001b[0m\u001b[0mn\u001b[0m\u001b[0;34m,\u001b[0m\u001b[0;34m'lat'\u001b[0m\u001b[0;34m]\u001b[0m \u001b[0;34m=\u001b[0m \u001b[0mc\u001b[0m\u001b[0;34m[\u001b[0m\u001b[0;36m0\u001b[0m\u001b[0;34m]\u001b[0m\u001b[0;34m\u001b[0m\u001b[0m\n\u001b[1;32m     11\u001b[0m     \u001b[0mus_PD\u001b[0m\u001b[0;34m.\u001b[0m\u001b[0mloc\u001b[0m\u001b[0;34m[\u001b[0m\u001b[0mn\u001b[0m\u001b[0;34m,\u001b[0m\u001b[0;34m'lon'\u001b[0m\u001b[0;34m]\u001b[0m \u001b[0;34m=\u001b[0m \u001b[0mc\u001b[0m\u001b[0;34m[\u001b[0m\u001b[0;36m1\u001b[0m\u001b[0;34m]\u001b[0m\u001b[0;34m\u001b[0m\u001b[0m\n",
      "\u001b[0;32m<ipython-input-303-b5552fc5e7ad>\u001b[0m in \u001b[0;36mpull_coords\u001b[0;34m(row, stops)\u001b[0m\n\u001b[1;32m      4\u001b[0m     \u001b[0mfull\u001b[0m \u001b[0;34m=\u001b[0m \u001b[0;34m[\u001b[0m\u001b[0mw\u001b[0m \u001b[0;32mfor\u001b[0m \u001b[0mw\u001b[0m \u001b[0;32min\u001b[0m \u001b[0mname\u001b[0m\u001b[0;34m.\u001b[0m\u001b[0msplit\u001b[0m\u001b[0;34m(\u001b[0m\u001b[0;34m)\u001b[0m \u001b[0;32mif\u001b[0m \u001b[0mw\u001b[0m \u001b[0;32mnot\u001b[0m \u001b[0;32min\u001b[0m \u001b[0mstops\u001b[0m\u001b[0;34m]\u001b[0m \u001b[0;34m+\u001b[0m \u001b[0;34m[\u001b[0m\u001b[0mstate\u001b[0m\u001b[0;34m]\u001b[0m\u001b[0;34m\u001b[0m\u001b[0m\n\u001b[1;32m      5\u001b[0m \u001b[0;31m#     print(full)\u001b[0m\u001b[0;34m\u001b[0m\u001b[0;34m\u001b[0m\u001b[0m\n\u001b[0;32m----> 6\u001b[0;31m     \u001b[0mloc\u001b[0m \u001b[0;34m=\u001b[0m \u001b[0mgeolocator\u001b[0m\u001b[0;34m.\u001b[0m\u001b[0mgeocode\u001b[0m\u001b[0;34m(\u001b[0m\u001b[0mfull\u001b[0m\u001b[0;34m,\u001b[0m \u001b[0mtimeout\u001b[0m\u001b[0;34m=\u001b[0m\u001b[0;36m10\u001b[0m\u001b[0;34m)\u001b[0m\u001b[0;34m\u001b[0m\u001b[0m\n\u001b[0m\u001b[1;32m      7\u001b[0m \u001b[0;31m#     print(loc)\u001b[0m\u001b[0;34m\u001b[0m\u001b[0;34m\u001b[0m\u001b[0m\n\u001b[1;32m      8\u001b[0m     \u001b[0;32mtry\u001b[0m\u001b[0;34m:\u001b[0m\u001b[0;34m\u001b[0m\u001b[0m\n",
      "\u001b[0;32m/anaconda3/lib/python3.6/site-packages/geopy/geocoders/osm.py\u001b[0m in \u001b[0;36mgeocode\u001b[0;34m(self, query, exactly_one, timeout, limit, addressdetails, language, geometry)\u001b[0m\n\u001b[1;32m    234\u001b[0m \u001b[0;34m\u001b[0m\u001b[0m\n\u001b[1;32m    235\u001b[0m         return self._parse_json(\n\u001b[0;32m--> 236\u001b[0;31m             \u001b[0mself\u001b[0m\u001b[0;34m.\u001b[0m\u001b[0m_call_geocoder\u001b[0m\u001b[0;34m(\u001b[0m\u001b[0murl\u001b[0m\u001b[0;34m,\u001b[0m \u001b[0mtimeout\u001b[0m\u001b[0;34m=\u001b[0m\u001b[0mtimeout\u001b[0m\u001b[0;34m)\u001b[0m\u001b[0;34m,\u001b[0m \u001b[0mexactly_one\u001b[0m\u001b[0;34m\u001b[0m\u001b[0m\n\u001b[0m\u001b[1;32m    237\u001b[0m         )\n\u001b[1;32m    238\u001b[0m \u001b[0;34m\u001b[0m\u001b[0m\n",
      "\u001b[0;32m/anaconda3/lib/python3.6/site-packages/geopy/geocoders/base.py\u001b[0m in \u001b[0;36m_call_geocoder\u001b[0;34m(self, url, timeout, raw, requester, deserializer, **kwargs)\u001b[0m\n\u001b[1;32m    286\u001b[0m                     \u001b[0;32mraise\u001b[0m \u001b[0mERROR_CODE_MAP\u001b[0m\u001b[0;34m[\u001b[0m\u001b[0mcode\u001b[0m\u001b[0;34m]\u001b[0m\u001b[0;34m(\u001b[0m\u001b[0mmessage\u001b[0m\u001b[0;34m)\u001b[0m\u001b[0;34m\u001b[0m\u001b[0m\n\u001b[1;32m    287\u001b[0m                 \u001b[0;32mexcept\u001b[0m \u001b[0mKeyError\u001b[0m\u001b[0;34m:\u001b[0m\u001b[0;34m\u001b[0m\u001b[0m\n\u001b[0;32m--> 288\u001b[0;31m                     \u001b[0;32mraise\u001b[0m \u001b[0mGeocoderServiceError\u001b[0m\u001b[0;34m(\u001b[0m\u001b[0mmessage\u001b[0m\u001b[0;34m)\u001b[0m\u001b[0;34m\u001b[0m\u001b[0m\n\u001b[0m\u001b[1;32m    289\u001b[0m             \u001b[0;32melif\u001b[0m \u001b[0misinstance\u001b[0m\u001b[0;34m(\u001b[0m\u001b[0merror\u001b[0m\u001b[0;34m,\u001b[0m \u001b[0mURLError\u001b[0m\u001b[0;34m)\u001b[0m\u001b[0;34m:\u001b[0m\u001b[0;34m\u001b[0m\u001b[0m\n\u001b[1;32m    290\u001b[0m                 \u001b[0;32mif\u001b[0m \u001b[0;34m\"timed out\"\u001b[0m \u001b[0;32min\u001b[0m \u001b[0mmessage\u001b[0m\u001b[0;34m:\u001b[0m\u001b[0;34m\u001b[0m\u001b[0m\n",
      "\u001b[0;31mGeocoderServiceError\u001b[0m: HTTP Error 429: Too Many Requests"
     ]
    }
   ],
   "source": [
    "# counter = 552\n",
    "state = 'none'\n",
    "for n in range(counter, us_PD.shape[0]+1):\n",
    "    r = us_PD.iloc[n,:]\n",
    "    new_state = r['state']\n",
    "    if new_state != state:\n",
    "        print(new_state)\n",
    "        state = new_state\n",
    "    c = pull_coords(r)\n",
    "    us_PD.loc[n,'lat'] = c[0]\n",
    "    us_PD.loc[n,'lon'] = c[1]\n",
    "    time.sleep(1)\n",
    "    print(r['name'])\n",
    "    counter += 1   \n",
    "    if counter % 50 == 0:\n",
    "        clear_output()\n",
    "        print(counter)\n",
    "        print(state)"
   ]
  },
  {
   "cell_type": "code",
   "execution_count": 312,
   "metadata": {},
   "outputs": [
    {
     "data": {
      "text/html": [
       "<div>\n",
       "<style>\n",
       "    .dataframe thead tr:only-child th {\n",
       "        text-align: right;\n",
       "    }\n",
       "\n",
       "    .dataframe thead th {\n",
       "        text-align: left;\n",
       "    }\n",
       "\n",
       "    .dataframe tbody tr th {\n",
       "        vertical-align: top;\n",
       "    }\n",
       "</style>\n",
       "<table border=\"1\" class=\"dataframe\">\n",
       "  <thead>\n",
       "    <tr style=\"text-align: right;\">\n",
       "      <th></th>\n",
       "      <th>name</th>\n",
       "      <th>officers</th>\n",
       "      <th>pop</th>\n",
       "      <th>state</th>\n",
       "      <th>pop per cop</th>\n",
       "      <th>coords</th>\n",
       "      <th>lat</th>\n",
       "      <th>lon</th>\n",
       "    </tr>\n",
       "  </thead>\n",
       "  <tbody>\n",
       "    <tr>\n",
       "      <th>0</th>\n",
       "      <td>Union Springs Police Department</td>\n",
       "      <td>NaN</td>\n",
       "      <td>NaN</td>\n",
       "      <td>alabama</td>\n",
       "      <td>NaN</td>\n",
       "      <td>0</td>\n",
       "      <td>34.961206</td>\n",
       "      <td>-87.203688</td>\n",
       "    </tr>\n",
       "    <tr>\n",
       "      <th>1</th>\n",
       "      <td>Selma Police Department</td>\n",
       "      <td>64.0</td>\n",
       "      <td>21000.0</td>\n",
       "      <td>alabama</td>\n",
       "      <td>328.125000</td>\n",
       "      <td>0</td>\n",
       "      <td>32.407863</td>\n",
       "      <td>-87.020747</td>\n",
       "    </tr>\n",
       "    <tr>\n",
       "      <th>2</th>\n",
       "      <td>Homewood Police Department</td>\n",
       "      <td>65.0</td>\n",
       "      <td>25000.0</td>\n",
       "      <td>alabama</td>\n",
       "      <td>384.615385</td>\n",
       "      <td>1</td>\n",
       "      <td>33.471773</td>\n",
       "      <td>-86.800823</td>\n",
       "    </tr>\n",
       "    <tr>\n",
       "      <th>3</th>\n",
       "      <td>Prattville Police Department</td>\n",
       "      <td>79.0</td>\n",
       "      <td>26000.0</td>\n",
       "      <td>alabama</td>\n",
       "      <td>329.113924</td>\n",
       "      <td>0</td>\n",
       "      <td>32.464025</td>\n",
       "      <td>-86.459697</td>\n",
       "    </tr>\n",
       "    <tr>\n",
       "      <th>4</th>\n",
       "      <td>Greenville Police Department</td>\n",
       "      <td>30.0</td>\n",
       "      <td>12000.0</td>\n",
       "      <td>alabama</td>\n",
       "      <td>400.000000</td>\n",
       "      <td>0</td>\n",
       "      <td>31.829597</td>\n",
       "      <td>-86.617752</td>\n",
       "    </tr>\n",
       "  </tbody>\n",
       "</table>\n",
       "</div>"
      ],
      "text/plain": [
       "                              name  officers      pop    state  pop per cop  \\\n",
       "0  Union Springs Police Department       NaN      NaN  alabama          NaN   \n",
       "1          Selma Police Department      64.0  21000.0  alabama   328.125000   \n",
       "2       Homewood Police Department      65.0  25000.0  alabama   384.615385   \n",
       "3     Prattville Police Department      79.0  26000.0  alabama   329.113924   \n",
       "4     Greenville Police Department      30.0  12000.0  alabama   400.000000   \n",
       "\n",
       "   coords        lat        lon  \n",
       "0       0  34.961206 -87.203688  \n",
       "1       0  32.407863 -87.020747  \n",
       "2       1  33.471773 -86.800823  \n",
       "3       0  32.464025 -86.459697  \n",
       "4       0  31.829597 -86.617752  "
      ]
     },
     "execution_count": 312,
     "metadata": {},
     "output_type": "execute_result"
    }
   ],
   "source": [
    "us_PD.head()"
   ]
  },
  {
   "cell_type": "code",
   "execution_count": 251,
   "metadata": {},
   "outputs": [
    {
     "data": {
      "text/plain": [
       "(9332, 5)"
      ]
     },
     "execution_count": 251,
     "metadata": {},
     "output_type": "execute_result"
    }
   ],
   "source": [
    "us_PD.shape[0]"
   ]
  },
  {
   "cell_type": "code",
   "execution_count": 255,
   "metadata": {},
   "outputs": [
    {
     "data": {
      "text/plain": [
       "617"
      ]
     },
     "execution_count": 255,
     "metadata": {},
     "output_type": "execute_result"
    }
   ],
   "source": [
    "len(cords)"
   ]
  },
  {
   "cell_type": "code",
   "execution_count": 315,
   "metadata": {
    "collapsed": true
   },
   "outputs": [],
   "source": [
    "us_PD.to_csv('state_data_with_some_coords.csv', index=False)"
   ]
  },
  {
   "cell_type": "code",
   "execution_count": 325,
   "metadata": {},
   "outputs": [
    {
     "data": {
      "text/plain": [
       "<matplotlib.collections.PathCollection at 0x1a25b3f198>"
      ]
     },
     "execution_count": 325,
     "metadata": {},
     "output_type": "execute_result"
    },
    {
     "data": {
      "image/png": "[encoded data removed]",
      "text/plain": [
       "<matplotlib.figure.Figure at 0x1a214455f8>"
      ]
     },
     "metadata": {},
     "output_type": "display_data"
    }
   ],
   "source": [
    "d = us_PD\n",
    "\n",
    "plt.figure(figsize=(15,15))\n",
    "# plt.scatter(data=d, x='lat', y='lon', s=np.log2(d['officers']))\n",
    "plt.scatter(data=d, x='lat', y='lon', s=(d['officers'])**0.5, alpha=0.3)"
   ]
  },
  {
   "cell_type": "code",
   "execution_count": null,
   "metadata": {
    "collapsed": true
   },
   "outputs": [],
   "source": []
  }
 ],
 "metadata": {
  "kernelspec": {
   "display_name": "Python [conda env:anaconda3]",
   "language": "python",
   "name": "conda-env-anaconda3-py"
  },
  "language_info": {
   "codemirror_mode": {
    "name": "ipython",
    "version": 3
   },
   "file_extension": ".py",
   "mimetype": "text/x-python",
   "name": "python",
   "nbconvert_exporter": "python",
   "pygments_lexer": "ipython3",
   "version": "3.6.3"
  }
 },
 "nbformat": 4,
 "nbformat_minor": 2
}
